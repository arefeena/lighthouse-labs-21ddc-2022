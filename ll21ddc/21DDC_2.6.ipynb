{
 "cells": [
  {
   "cell_type": "markdown",
   "metadata": {},
   "source": [
    "Ref: https://data-challenge.lighthouselabs.ca/challenge/13"
   ]
  },
  {
   "cell_type": "markdown",
   "metadata": {},
   "source": [
    "### **Day 13: *Simple Plots in Pandas*** \n",
    "\n",
    "After solving the mystery of Australia’s seasons and spending some time on the continent’s west coast, Dot moved across “the land Down Under” towards the opposite coast. They crossed the arid Outback on a plane over a land populated by dingos, wallabies, bilbies, and skinks. Though they wished they could see the region's wildlife, they were glad they could pass over it in the comfort of a plane – being in the desert seemed a bit frightening! So they decided to view the wildlife in a slightly less direct way and take a trip over to the Melbourne Zoo. After landing in Melbourne, they headed north of the city for a day trip. \n",
    "\n",
    "Arriving at the zoo and buying a ticket, Dot excitedly ran to the Australian bush section. They looked with wonder at animals native to Australia over a safe distance, with trained professionals around. Dot waved hello at some cute koala bears, fawning over their little eyes and big noses. They lingered around the kangaroo exhibit, watching the bipedal marsupials hop and jump inside their enclosure. They spent some time looking with a curious gaze at the sneaky Tasmanian devils, which looked devilish with their tiny rodent faces and long teeth. After a day under the sun, Dot was exhausted and ready to sit down and rest. Exiting the zoo, they looked down at their hands and saw how cracked their skin was. “Wow, Australia sure is dry!” they exclaimed aloud. Between the expanses of desert and the arid climate, it seemed to them that the continent probably didn’t get much rainfall. But Dot wasn’t the kind of person to take an idle observation for fact; they wanted to know what Australia’s climate was like. So let’s examine a dataset with Dot to see whether the weather in Australia is ever rainy. \n"
   ]
  },
  {
   "cell_type": "markdown",
   "metadata": {},
   "source": [
    "### Tutorial\n",
    "In today's challenge, we will take a look at another powerful feature of Pandas, plotting.\n",
    "\n",
    "```python\n",
    "import pandas as pd\n",
    "\n",
    "# we load the DataFrame\n",
    "df = pd.read_csv('aus_weather.csv')\n",
    "df.head()\n",
    "\n",
    "# we can call plot() method directly on the column we want to show\n",
    "df[\"MaxTemp\"].plot()\n",
    "```\n",
    "\n",
    "We can observe the values of the DataFrame’sindex on the x axis, and the values of the MaxTemp variable on the y axis. If we want the x axis to show something else, we can set those values as the index of our DataFrame.\n",
    "\n",
    "\n",
    "```python\n",
    "df_date = df.set_index(\"Date\")\n",
    "df_date.head()\n",
    "```\n",
    "\n",
    "Observe the difference between `df_date` and `df`.\n",
    "\n",
    "```python\n",
    "df_date[df_date['Location'] == 'Albury'][\"MaxTemp\"].plot(kind='line')\n",
    "```\n",
    "\n",
    "Using the parameter *kind* in the **.plot()** method we can change the type of the plot.\n",
    "\n",
    "\n",
    "- `kind='line'` : line chart (default value)\n",
    "- `kind='box'` : boxplot\n",
    "- `kind='hist'` : histogram\n",
    "- `kind='bar'` : bar chart\n",
    "\n",
    "\n",
    "Play around with the commands above and observe the outputs.\n",
    "\n",
    "We can visit [this article](https://pandas.pydata.org/pandas-docs/stable/user_guide/visualization.html#) for more information about basic plotting in Pandas."
   ]
  },
  {
   "cell_type": "code",
   "execution_count": 1,
   "metadata": {},
   "outputs": [
    {
     "data": {
      "text/html": [
       "<div>\n",
       "<style scoped>\n",
       "    .dataframe tbody tr th:only-of-type {\n",
       "        vertical-align: middle;\n",
       "    }\n",
       "\n",
       "    .dataframe tbody tr th {\n",
       "        vertical-align: top;\n",
       "    }\n",
       "\n",
       "    .dataframe thead th {\n",
       "        text-align: right;\n",
       "    }\n",
       "</style>\n",
       "<table border=\"1\" class=\"dataframe\">\n",
       "  <thead>\n",
       "    <tr style=\"text-align: right;\">\n",
       "      <th></th>\n",
       "      <th>Date</th>\n",
       "      <th>Location</th>\n",
       "      <th>MinTemp</th>\n",
       "      <th>MaxTemp</th>\n",
       "      <th>Rainfall</th>\n",
       "      <th>Sunshine</th>\n",
       "      <th>WindSpeed9am</th>\n",
       "      <th>WindSpeed3pm</th>\n",
       "      <th>Humidity9am</th>\n",
       "      <th>Humidity3pm</th>\n",
       "      <th>Cloud9am</th>\n",
       "      <th>Cloud3pm</th>\n",
       "      <th>Temp9am</th>\n",
       "      <th>Temp3pm</th>\n",
       "      <th>RainToday</th>\n",
       "      <th>month</th>\n",
       "      <th>season</th>\n",
       "    </tr>\n",
       "  </thead>\n",
       "  <tbody>\n",
       "    <tr>\n",
       "      <th>67200</th>\n",
       "      <td>2008-07-01</td>\n",
       "      <td>Melbourne</td>\n",
       "      <td>9.5</td>\n",
       "      <td>15.4</td>\n",
       "      <td>2.0</td>\n",
       "      <td>7.0</td>\n",
       "      <td>37.0</td>\n",
       "      <td>35.0</td>\n",
       "      <td>60.0</td>\n",
       "      <td>38.0</td>\n",
       "      <td>1.0</td>\n",
       "      <td>7.0</td>\n",
       "      <td>11.0</td>\n",
       "      <td>14.6</td>\n",
       "      <td>Yes</td>\n",
       "      <td>7</td>\n",
       "      <td>winter</td>\n",
       "    </tr>\n",
       "    <tr>\n",
       "      <th>67201</th>\n",
       "      <td>2008-07-02</td>\n",
       "      <td>Melbourne</td>\n",
       "      <td>11.0</td>\n",
       "      <td>14.5</td>\n",
       "      <td>0.6</td>\n",
       "      <td>4.0</td>\n",
       "      <td>30.0</td>\n",
       "      <td>35.0</td>\n",
       "      <td>66.0</td>\n",
       "      <td>52.0</td>\n",
       "      <td>7.0</td>\n",
       "      <td>4.0</td>\n",
       "      <td>11.8</td>\n",
       "      <td>13.7</td>\n",
       "      <td>No</td>\n",
       "      <td>7</td>\n",
       "      <td>winter</td>\n",
       "    </tr>\n",
       "    <tr>\n",
       "      <th>67202</th>\n",
       "      <td>2008-07-03</td>\n",
       "      <td>Melbourne</td>\n",
       "      <td>8.4</td>\n",
       "      <td>14.1</td>\n",
       "      <td>1.4</td>\n",
       "      <td>0.8</td>\n",
       "      <td>17.0</td>\n",
       "      <td>24.0</td>\n",
       "      <td>72.0</td>\n",
       "      <td>58.0</td>\n",
       "      <td>7.0</td>\n",
       "      <td>7.0</td>\n",
       "      <td>10.6</td>\n",
       "      <td>13.9</td>\n",
       "      <td>Yes</td>\n",
       "      <td>7</td>\n",
       "      <td>winter</td>\n",
       "    </tr>\n",
       "    <tr>\n",
       "      <th>67203</th>\n",
       "      <td>2008-07-04</td>\n",
       "      <td>Melbourne</td>\n",
       "      <td>9.1</td>\n",
       "      <td>14.5</td>\n",
       "      <td>0.6</td>\n",
       "      <td>4.2</td>\n",
       "      <td>9.0</td>\n",
       "      <td>7.0</td>\n",
       "      <td>87.0</td>\n",
       "      <td>49.0</td>\n",
       "      <td>7.0</td>\n",
       "      <td>6.0</td>\n",
       "      <td>10.2</td>\n",
       "      <td>13.1</td>\n",
       "      <td>No</td>\n",
       "      <td>7</td>\n",
       "      <td>winter</td>\n",
       "    </tr>\n",
       "    <tr>\n",
       "      <th>67204</th>\n",
       "      <td>2008-07-05</td>\n",
       "      <td>Melbourne</td>\n",
       "      <td>4.3</td>\n",
       "      <td>15.5</td>\n",
       "      <td>0.0</td>\n",
       "      <td>8.4</td>\n",
       "      <td>24.0</td>\n",
       "      <td>30.0</td>\n",
       "      <td>81.0</td>\n",
       "      <td>52.0</td>\n",
       "      <td>2.0</td>\n",
       "      <td>5.0</td>\n",
       "      <td>5.5</td>\n",
       "      <td>14.6</td>\n",
       "      <td>No</td>\n",
       "      <td>7</td>\n",
       "      <td>winter</td>\n",
       "    </tr>\n",
       "  </tbody>\n",
       "</table>\n",
       "</div>"
      ],
      "text/plain": [
       "             Date   Location  MinTemp  MaxTemp  Rainfall  Sunshine  \\\n",
       "67200  2008-07-01  Melbourne      9.5     15.4       2.0       7.0   \n",
       "67201  2008-07-02  Melbourne     11.0     14.5       0.6       4.0   \n",
       "67202  2008-07-03  Melbourne      8.4     14.1       1.4       0.8   \n",
       "67203  2008-07-04  Melbourne      9.1     14.5       0.6       4.2   \n",
       "67204  2008-07-05  Melbourne      4.3     15.5       0.0       8.4   \n",
       "\n",
       "       WindSpeed9am  WindSpeed3pm  Humidity9am  Humidity3pm  Cloud9am  \\\n",
       "67200          37.0          35.0         60.0         38.0       1.0   \n",
       "67201          30.0          35.0         66.0         52.0       7.0   \n",
       "67202          17.0          24.0         72.0         58.0       7.0   \n",
       "67203           9.0           7.0         87.0         49.0       7.0   \n",
       "67204          24.0          30.0         81.0         52.0       2.0   \n",
       "\n",
       "       Cloud3pm  Temp9am  Temp3pm RainToday  month  season  \n",
       "67200       7.0     11.0     14.6       Yes      7  winter  \n",
       "67201       4.0     11.8     13.7        No      7  winter  \n",
       "67202       7.0     10.6     13.9       Yes      7  winter  \n",
       "67203       6.0     10.2     13.1        No      7  winter  \n",
       "67204       5.0      5.5     14.6        No      7  winter  "
      ]
     },
     "execution_count": 1,
     "metadata": {},
     "output_type": "execute_result"
    }
   ],
   "source": [
    "import pandas as pd\n",
    "df = pd.read_csv('aus_weather.csv')\n",
    "df = df[df[\"Location\"] == \"Melbourne\"]\n",
    "df.head()"
   ]
  },
  {
   "cell_type": "markdown",
   "metadata": {},
   "source": [
    "### Challenge\n",
    "Use the Pandas plot function to answer these two questions:\n",
    "\n",
    "1. **Using a histogram, what is the most likely temperature at 9am (Temp9am) in Melbourne?**\n",
    "2. **Using a boxplot, does it ever rain (using variable Rainfall) in Melbourne? If yes, what was the highest daily amount recorded?**\n"
   ]
  },
  {
   "cell_type": "code",
   "execution_count": 2,
   "metadata": {},
   "outputs": [
    {
     "data": {
      "text/plain": [
       "<AxesSubplot:ylabel='Frequency'>"
      ]
     },
     "execution_count": 2,
     "metadata": {},
     "output_type": "execute_result"
    },
    {
     "data": {
      "image/png": "[encoded data removed]",
      "text/plain": [
       "<Figure size 432x288 with 1 Axes>"
      ]
     },
     "metadata": {
      "needs_background": "light"
     },
     "output_type": "display_data"
    }
   ],
   "source": [
    "df[\"Temp9am\"].plot(kind='hist')"
   ]
  },
  {
   "cell_type": "code",
   "execution_count": 3,
   "metadata": {},
   "outputs": [
    {
     "data": {
      "text/plain": [
       "<AxesSubplot:>"
      ]
     },
     "execution_count": 3,
     "metadata": {},
     "output_type": "execute_result"
    },
    {
     "data": {
      "image/png": "[encoded data removed]",
      "text/plain": [
       "<Figure size 432x288 with 1 Axes>"
      ]
     },
     "metadata": {
      "needs_background": "light"
     },
     "output_type": "display_data"
    }
   ],
   "source": [
    "df[\"Rainfall\"].plot(kind='box')"
   ]
  },
  {
   "cell_type": "markdown",
   "metadata": {},
   "source": [
    "### Answer\n",
    "\n",
    "1. 12.5-15ºC\n",
    "2. Yes, it does rain and max rainfall was over 80mm\n",
    "\n",
    "![Challenge 13 Solved](https://data-challenge.lighthouselabs.ca/img/badges/badge13@72x.png)"
   ]
  }
 ],
 "metadata": {
  "interpreter": {
   "hash": "416fa9769a4cd50bb185d13c02663a9481d7a18570b1ee862cc6a27de6992a60"
  },
  "kernelspec": {
   "display_name": "Python 3.10.4 ('ll21ddc')",
   "language": "python",
   "name": "python3"
  },
  "language_info": {
   "codemirror_mode": {
    "name": "ipython",
    "version": 3
   },
   "file_extension": ".py",
   "mimetype": "text/x-python",
   "name": "python",
   "nbconvert_exporter": "python",
   "pygments_lexer": "ipython3",
   "version": "3.10.4"
  },
  "orig_nbformat": 4
 },
 "nbformat": 4,
 "nbformat_minor": 2
}
