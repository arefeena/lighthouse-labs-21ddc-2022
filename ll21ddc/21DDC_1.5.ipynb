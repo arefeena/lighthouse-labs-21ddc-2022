{
 "cells": [
  {
   "cell_type": "markdown",
   "metadata": {},
   "source": [
    "Ref: https://data-challenge.lighthouselabs.ca/challenge/5"
   ]
  },
  {
   "cell_type": "markdown",
   "metadata": {},
   "source": [
    "### **Day 5: *Control Structures: for loops and if statements***"
   ]
  },
  {
   "cell_type": "markdown",
   "metadata": {},
   "source": [
    "After spending some time in Munich, Dot moved on to their next destination: London, the capital of the United Kingdom. When they arrived, the first thing they did was settle in at a tea room over a steaming cup of English Breakfast. Then, as they let the soothing beverage warm them and the caffeine perk them up, Dot started to think about what they wanted to visit in London. The clock tower with Big Ben, London Bridge, the Natural History Museum…the possibilities were endless and a bit overwhelming. \n",
    "\n",
    "Dot overheard some other tourists talking about their day at the table next to them. “I’m telling you, we must have waited a good 45 minutes just to be able to see the structure!” a man exclaimed to his partner. Wait times are something Dot didn’t think about — Dot hated waiting, even to see something magnificent and historical. Actually, waiting in line was Dot’s number one fear, coincidentally. If they waited in line for more than 15 minutes, they might have an emotional meltdown and become psychologically disconnected from the world around them, which wouldn’t bode well for their invigorating, joyful vacation. So let’s help Dot sidestep their #1 fear by using data to guide them towards only landmarks with a waiting time of fewer than fifteen minutes.\n"
   ]
  },
  {
   "cell_type": "markdown",
   "metadata": {},
   "source": [
    "### Tutorial\n",
    "\n",
    "In this challenge, you'll use **conditional logic** and a **for loop** to solve the problem. \n",
    "\n",
    "#### For Loops\n",
    "\n",
    "In programming, a **loop** is a block of code that's executed repeatedly, either for a set number of times, or until a certain condition is met. \n",
    "\n",
    "A **for loop** is a type of loop that is executed for a set number of times, iterated over the number of items in a sequence. To learn more about for loops, read this [article](https://realpython.com/python-for-loop/).\n",
    "\n",
    "```python\n",
    "lst = [1,2,3,4,5]\n",
    "\n",
    "\n",
    "for i in range(len(lst)): \n",
    "    print(i)\n",
    "    '''insert code'''\n",
    "\n",
    "```\n",
    "\n",
    "In the above code, the [range() function](https://www.w3schools.com/python/ref_func_range.asp) creates a sequence of numbers, and the [len() function](https://www.w3schools.com/python/ref_func_len.asp) outputs the length of a list. "
   ]
  },
  {
   "cell_type": "markdown",
   "metadata": {},
   "source": [
    "#### Conditional Logic\n",
    "\n",
    "Conditional logic refers to the execution of different actions based on whether a certain condition is met. In programming, these conditions are expressed by a set of symbols called **Boolean Operators**. \n",
    "\n",
    "| Boolean Comparator | Example | Meaning                         |\n",
    "|--------------------|---------|---------------------------------|\n",
    "| >                  | x > y   | x is greater than y             |\n",
    "| >=                 | x >= y  | x is greater than or equal to y |\n",
    "| <                  | x < y   | x is less than y                |\n",
    "| <=                 | x <= y  | x is less than or equal to y    |\n",
    "| !=                 | x != y  | x is not equal to y             |\n",
    "| ==                 | x == y  | x is equal to y                 |\n",
    "\n",
    "\n",
    "Conditional logic is essential to **control flow statements**. Control flows are expressed in **if...else** statements. To read more on if...else statements, read this [article](https://realpython.com/python-conditional-statements/) before proceeding. \n",
    "\n",
    "```python\n",
    "#If Statement\n",
    "if condition is True:\n",
    "    '''\n",
    "    execute body of code\n",
    "    '''\n",
    "\n",
    "#If Else Statement\n",
    "if var > 10: #if var is greater than 10\n",
    "    '''\n",
    "    execute body of code\n",
    "    '''\n",
    "else: #if none of the above conditions are true, execute this code\n",
    "    '''\n",
    "    execute body of code\n",
    "    '''\n",
    "    \n",
    "#Multiple If...else statements\n",
    "if var > 10: #if var is greater than 10\n",
    "    '''\n",
    "    execute body of code\n",
    "    '''\n",
    "    \n",
    "elif var > 5 and <= 10: #if var is greater than 5 but less than or equal to 10\n",
    "    '''\n",
    "    execute body of code\n",
    "    '''\n",
    "else: #if none of the above statement is true, execute code\n",
    "    '''\n",
    "    execute body of code\n",
    "    '''\n",
    "```\n",
    "\n",
    "**Note:** *If...else* statements can be executed within a *for loop*. However, be aware of the indentation."
   ]
  },
  {
   "cell_type": "markdown",
   "metadata": {},
   "source": [
    "### Challenge\n",
    "\n",
    "Dot wants to visit all the London landmarks where the wait time is less than 15 minutes. We have a dictionary called `landmarks`, within which landmark names are keys and wait times are their respective values.\n",
    "\n",
    "**Using Python, develop a list of the landmarks where the wait time is less than 15 minutes. What will be the length of the list?**\n"
   ]
  },
  {
   "cell_type": "code",
   "execution_count": 1,
   "metadata": {},
   "outputs": [],
   "source": [
    "# dictionary where \n",
    "landmarks = {\n",
    "    \"Big Ben\": 12,\n",
    "    \"Tower Bridge\": 25,\n",
    "    \"Buckingham Palace\": 15,\n",
    "    \"Madame Tussauds\": 25,\n",
    "    \"London Eye\": 40,\n",
    "    \"Tower of London\": 25,\n",
    "    \"Emirates Air Line cable car\": 16,\n",
    "    \"London Transport Museum\": 7,\n",
    "    \"Wembley Stadium\": 8,\n",
    "    \"Hyde Park\": 0,\n",
    "    \"The View from The Shard\": 14\n",
    "}"
   ]
  },
  {
   "cell_type": "code",
   "execution_count": 2,
   "metadata": {},
   "outputs": [
    {
     "name": "stdout",
     "output_type": "stream",
     "text": [
      "['Big Ben', 'London Transport Museum', 'Wembley Stadium', 'Hyde Park', 'The View from The Shard'] , 5\n"
     ]
    }
   ],
   "source": [
    "under_15_landmarks = []\n",
    "\n",
    "for landmark, wait_time in landmarks.items():\n",
    "    if wait_time < 15:\n",
    "        under_15_landmarks.append(landmark)\n",
    "\n",
    "print(under_15_landmarks, ',', len(under_15_landmarks))"
   ]
  },
  {
   "cell_type": "markdown",
   "metadata": {},
   "source": [
    "### Answer\n",
    "\n",
    "['Big Ben','London Transport Museum','Wembley Stadium','Hyde Park','The View from The Shard'], 5\n",
    "\n",
    "![Challenge 5 Solved](https://data-challenge.lighthouselabs.ca/img/badges/badge5@72x.png)"
   ]
  }
 ],
 "metadata": {
  "interpreter": {
   "hash": "284f45f08ccb32755c03f9356b1501946f53caee7f8e16ffbb9625966406e9e1"
  },
  "kernelspec": {
   "display_name": "Python 3.9.7 ('base')",
   "language": "python",
   "name": "python3"
  },
  "language_info": {
   "codemirror_mode": {
    "name": "ipython",
    "version": 3
   },
   "file_extension": ".py",
   "mimetype": "text/x-python",
   "name": "python",
   "nbconvert_exporter": "python",
   "pygments_lexer": "ipython3",
   "version": "3.9.7"
  },
  "orig_nbformat": 4
 },
 "nbformat": 4,
 "nbformat_minor": 2
}
