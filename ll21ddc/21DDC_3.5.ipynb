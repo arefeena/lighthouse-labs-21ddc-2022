{
 "cells": [
  {
   "cell_type": "markdown",
   "metadata": {},
   "source": [
    "Ref: https://data-challenge.lighthouselabs.ca/challenge/19"
   ]
  },
  {
   "cell_type": "markdown",
   "metadata": {},
   "source": [
    "### **Day 19: *Histograms with Matplotlib***\n",
    "\n",
    "After their time in Asia, Dot hopped on a long overnight flight back to the other side of the globe. On a large plane filled with snoozing passengers, Dot headed east back to the Americas. Their destination: Honolulu, Hawaii. They deboarded after many hours, stretching and yawning and ready to bask in the sun. “I’m heading over to the Honolulu Zoo; what about you?” a fellow passenger asked kindly. Dot yelped and shook their head fiercely. No more zoos for them! They had a room in a hotel right on Waikiki Beach. They were excited to spend their time in Hawaii doing nothing except sunbathing. They were grateful for the excitement of the last couple of weeks, but now was the time for pure, unbothered relaxation. \n",
    "\n",
    "As soon as Dot checked into their hotel, they headed right for the beach with sunscreen, a towel, and a favourite book. They lowered their sunglasses over their eyes and stretched out among the sand and the heat. They were surrounded by palm trees and crystal-clear water, and down the shoreline, they could see the Lēʻahi volcano. Other beachgoers were splashing around or paddling lazily on surfboards in the water. What a beautiful day! After finishing their book and snapping it closed, it was time for Dot to start thinking about the end of their around-the-world trip. First, they needed to plan their way home. Can you help Dot find out which US city has the best connection with Vancouver?\n"
   ]
  },
  {
   "cell_type": "markdown",
   "metadata": {},
   "source": [
    "### Tutorial\n",
    "\n",
    "While working with data, we may want to figure out the frequency distribution of a numerical dataset. The frequency distribution refers to how often each value occurs within a dataset. This can be important to know so that we can understand whether the data we are analyzing is normally distributed or skewed. \n",
    "\n",
    "The best way to visualize the distribution of our dataset is with a histogram. Histograms are a graphical representation of data using bars of different heights. Similar to bar charts, histograms group numbers into buckets. The size of each bar shows how many fall into each range. \n",
    "\n",
    "**Building a histogram with MatPlotLib**\n",
    "\n",
    "Here is how a histogram can be built using Matplotlib:\n",
    "\n",
    "```python\n",
    "plt.figure()\n",
    "plt.hist(df['numerical_data'], bins = 40) #Play around with the bin sizes when plotting your histogram\n",
    "plt.show()\n",
    "```\n",
    "\n",
    "**Normal Distribution**\n",
    "\n",
    "A histogram with the following characteristics would have a normal distribution:\n",
    "\n",
    "- the mean & the median are the same.\n",
    "- 1 standard deviation from the mean captures 68.2% of the data.\n",
    "- 2 standard deviations from the mean captures 95.4% of the data.\n",
    "\n",
    "![normal_distribution](images/n_distribution.png)\n",
    "\n",
    "*Image Taken from [WikiMedia Commons](https://commons.wikimedia.org/wiki/File:Normal_Distribution_Sigma.svg)*\n",
    "\n",
    "\n",
    "**Skewed Distribution**\n",
    "\n",
    "Within this image, we can see the two types of skewed distribution:\n",
    "\n",
    "![skewed_distribution](images/skew.png)\n",
    "\n",
    "*Image Taken from [WikiMedia Commons](https://commons.wikimedia.org/wiki/File:Negative_and_positive_skew_diagrams_(English).svg)*\n",
    "\n",
    "**Note:** Negative skew also refers to **left skew** and positive skew also refers to **right skew.** \n",
    "\n",
    "**Histogram vs. Bar Plot?**\n",
    "\n",
    "Histograms and barplots look nearly identical, and it can be easy to mistake them in some instances. Their differences lie in what they're typically used for. Bar plots tend to measure categorical data, whereas histograms measure the frequency (probability that specific value occurs) in numerical data.\n",
    "\n",
    "To learn more on interpreting histograms, read this [article](https://www.ck12.org/book/ck-12-probability-and-statistics-concepts/section/4.6/).\n"
   ]
  },
  {
   "cell_type": "markdown",
   "metadata": {},
   "source": [
    "### Challenge\n",
    "\n",
    "Use air traffic data to help Dot by finding out which US city has the best connection with Vancouver.\n",
    "\n",
    "1. **What is the origin city (using variable ORIGIN_CITY_NAME) with the highest total number of passengers who travelled to Vancouver?**\n",
    "2. **According to our data, how many passengers travelled from that origin city to Vancouver?**\n",
    "3. **Use a histogram to plot the probability distribution of distances for all routes in June 2021.**"
   ]
  },
  {
   "cell_type": "code",
   "execution_count": 1,
   "metadata": {},
   "outputs": [
    {
     "data": {
      "text/html": [
       "<div>\n",
       "<style scoped>\n",
       "    .dataframe tbody tr th:only-of-type {\n",
       "        vertical-align: middle;\n",
       "    }\n",
       "\n",
       "    .dataframe tbody tr th {\n",
       "        vertical-align: top;\n",
       "    }\n",
       "\n",
       "    .dataframe thead th {\n",
       "        text-align: right;\n",
       "    }\n",
       "</style>\n",
       "<table border=\"1\" class=\"dataframe\">\n",
       "  <thead>\n",
       "    <tr style=\"text-align: right;\">\n",
       "      <th></th>\n",
       "      <th>PASSENGERS</th>\n",
       "      <th>DISTANCE</th>\n",
       "      <th>UNIQUE_CARRIER</th>\n",
       "      <th>UNIQUE_CARRIER_NAME</th>\n",
       "      <th>ORIGIN_AIRPORT_ID</th>\n",
       "      <th>ORIGIN</th>\n",
       "      <th>ORIGIN_CITY_NAME</th>\n",
       "      <th>DEST_AIRPORT_ID</th>\n",
       "      <th>DEST</th>\n",
       "      <th>DEST_CITY_NAME</th>\n",
       "      <th>YEAR</th>\n",
       "      <th>MONTH</th>\n",
       "      <th>Unnamed: 12</th>\n",
       "    </tr>\n",
       "  </thead>\n",
       "  <tbody>\n",
       "    <tr>\n",
       "      <th>0</th>\n",
       "      <td>0.0</td>\n",
       "      <td>2470.0</td>\n",
       "      <td>2GQ</td>\n",
       "      <td>Cavok Air LLC</td>\n",
       "      <td>13269</td>\n",
       "      <td>MGA</td>\n",
       "      <td>Managua, Nicaragua</td>\n",
       "      <td>14691</td>\n",
       "      <td>SBD</td>\n",
       "      <td>San Bernardino, CA</td>\n",
       "      <td>2021</td>\n",
       "      <td>1</td>\n",
       "      <td>NaN</td>\n",
       "    </tr>\n",
       "    <tr>\n",
       "      <th>1</th>\n",
       "      <td>0.0</td>\n",
       "      <td>2077.0</td>\n",
       "      <td>2GQ</td>\n",
       "      <td>Cavok Air LLC</td>\n",
       "      <td>13269</td>\n",
       "      <td>MGA</td>\n",
       "      <td>Managua, Nicaragua</td>\n",
       "      <td>14512</td>\n",
       "      <td>RFD</td>\n",
       "      <td>Rockford, IL</td>\n",
       "      <td>2021</td>\n",
       "      <td>1</td>\n",
       "      <td>NaN</td>\n",
       "    </tr>\n",
       "    <tr>\n",
       "      <th>2</th>\n",
       "      <td>0.0</td>\n",
       "      <td>2470.0</td>\n",
       "      <td>2GQ</td>\n",
       "      <td>Cavok Air LLC</td>\n",
       "      <td>14691</td>\n",
       "      <td>SBD</td>\n",
       "      <td>San Bernardino, CA</td>\n",
       "      <td>13269</td>\n",
       "      <td>MGA</td>\n",
       "      <td>Managua, Nicaragua</td>\n",
       "      <td>2021</td>\n",
       "      <td>1</td>\n",
       "      <td>NaN</td>\n",
       "    </tr>\n",
       "    <tr>\n",
       "      <th>3</th>\n",
       "      <td>0.0</td>\n",
       "      <td>3457.0</td>\n",
       "      <td>KL</td>\n",
       "      <td>Klm Royal Dutch Airlines</td>\n",
       "      <td>10721</td>\n",
       "      <td>BOS</td>\n",
       "      <td>Boston, MA</td>\n",
       "      <td>10292</td>\n",
       "      <td>AMS</td>\n",
       "      <td>Amsterdam, Netherlands</td>\n",
       "      <td>2021</td>\n",
       "      <td>1</td>\n",
       "      <td>NaN</td>\n",
       "    </tr>\n",
       "    <tr>\n",
       "      <th>4</th>\n",
       "      <td>0.0</td>\n",
       "      <td>4120.0</td>\n",
       "      <td>KL</td>\n",
       "      <td>Klm Royal Dutch Airlines</td>\n",
       "      <td>13930</td>\n",
       "      <td>ORD</td>\n",
       "      <td>Chicago, IL</td>\n",
       "      <td>10292</td>\n",
       "      <td>AMS</td>\n",
       "      <td>Amsterdam, Netherlands</td>\n",
       "      <td>2021</td>\n",
       "      <td>1</td>\n",
       "      <td>NaN</td>\n",
       "    </tr>\n",
       "  </tbody>\n",
       "</table>\n",
       "</div>"
      ],
      "text/plain": [
       "   PASSENGERS  DISTANCE UNIQUE_CARRIER       UNIQUE_CARRIER_NAME  \\\n",
       "0         0.0    2470.0            2GQ             Cavok Air LLC   \n",
       "1         0.0    2077.0            2GQ             Cavok Air LLC   \n",
       "2         0.0    2470.0            2GQ             Cavok Air LLC   \n",
       "3         0.0    3457.0             KL  Klm Royal Dutch Airlines   \n",
       "4         0.0    4120.0             KL  Klm Royal Dutch Airlines   \n",
       "\n",
       "   ORIGIN_AIRPORT_ID ORIGIN    ORIGIN_CITY_NAME  DEST_AIRPORT_ID DEST  \\\n",
       "0              13269    MGA  Managua, Nicaragua            14691  SBD   \n",
       "1              13269    MGA  Managua, Nicaragua            14512  RFD   \n",
       "2              14691    SBD  San Bernardino, CA            13269  MGA   \n",
       "3              10721    BOS          Boston, MA            10292  AMS   \n",
       "4              13930    ORD         Chicago, IL            10292  AMS   \n",
       "\n",
       "           DEST_CITY_NAME  YEAR  MONTH  Unnamed: 12  \n",
       "0      San Bernardino, CA  2021      1          NaN  \n",
       "1            Rockford, IL  2021      1          NaN  \n",
       "2      Managua, Nicaragua  2021      1          NaN  \n",
       "3  Amsterdam, Netherlands  2021      1          NaN  \n",
       "4  Amsterdam, Netherlands  2021      1          NaN  "
      ]
     },
     "execution_count": 1,
     "metadata": {},
     "output_type": "execute_result"
    }
   ],
   "source": [
    "import pandas as pd\n",
    "import matplotlib.pyplot as plt\n",
    "\n",
    "df = pd.read_csv('air_traffic_data.csv')\n",
    "df.head()"
   ]
  },
  {
   "cell_type": "code",
   "execution_count": 2,
   "metadata": {},
   "outputs": [
    {
     "data": {
      "text/plain": [
       "idxmax    Seattle, WA\n",
       "max           17109.0\n",
       "Name: PASSENGERS, dtype: object"
      ]
     },
     "execution_count": 2,
     "metadata": {},
     "output_type": "execute_result"
    }
   ],
   "source": [
    "(df[df.DEST_CITY_NAME == 'Vancouver, Canada']  # flights to vancouver\n",
    "    .groupby('ORIGIN_CITY_NAME')  # by origin city\n",
    "    ['PASSENGERS'].sum()  # total passenger counts\n",
    "    .agg(['idxmax', 'max'])  # find the best connection to vancouver\n",
    ")"
   ]
  },
  {
   "cell_type": "code",
   "execution_count": 3,
   "metadata": {},
   "outputs": [
    {
     "data": {
      "image/png": "[encoded data removed]",
      "text/plain": [
       "<Figure size 432x288 with 1 Axes>"
      ]
     },
     "metadata": {
      "needs_background": "light"
     },
     "output_type": "display_data"
    }
   ],
   "source": [
    "plt.figure()\n",
    "plt.hist(df[(df.YEAR == 2021) & (df.MONTH == 6)].DISTANCE, bins = 40)\n",
    "plt.show()"
   ]
  },
  {
   "cell_type": "markdown",
   "metadata": {},
   "source": [
    "### Answer\n",
    "\n",
    "1. Seattle\n",
    "2. 17109\n",
    "\n",
    "![Challenge 19 Solved](https://data-challenge.lighthouselabs.ca/img/badges/badge19@72x.png)"
   ]
  }
 ],
 "metadata": {
  "interpreter": {
   "hash": "416fa9769a4cd50bb185d13c02663a9481d7a18570b1ee862cc6a27de6992a60"
  },
  "kernelspec": {
   "display_name": "Python 3.10.4 ('ll21ddc')",
   "language": "python",
   "name": "python3"
  },
  "language_info": {
   "codemirror_mode": {
    "name": "ipython",
    "version": 3
   },
   "file_extension": ".py",
   "mimetype": "text/x-python",
   "name": "python",
   "nbconvert_exporter": "python",
   "pygments_lexer": "ipython3",
   "version": "3.10.4"
  },
  "orig_nbformat": 4
 },
 "nbformat": 4,
 "nbformat_minor": 2
}
