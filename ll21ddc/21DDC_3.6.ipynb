{
 "cells": [
  {
   "cell_type": "markdown",
   "metadata": {},
   "source": [
    "Ref: https://data-challenge.lighthouselabs.ca/challenge/20"
   ]
  },
  {
   "cell_type": "markdown",
   "metadata": {},
   "source": [
    "### **Day 20: *Combining Our Knowledge***\n",
    "\n",
    "After figuring out that Seattle has the best connection with Vancouver, Dot hopped on a flight heading north and east. The plane bounded over the endless Pacific until it began its descent over the Puget Sound, eventually landing in Washington State among the Space Needle and the tall office buildings where tech companies worked. What a different environment than Hawaii! Dot had some time to kill before they boarded their connection to Vancouver. Instead of wasting it in the airport, they checked out the city. Dot had never been to Seattle before and wanted to visit the Museum of Pop Culture for the first time. \n",
    "\n",
    "The building rose up strangely and majestically before Dot’s eyes, resembling a quilt of colourful, hallucinatory sheets of metal blowing in the wind. Dot had never seen anything like it. Inside, they strolled through the exhibits paying tribute to humanity’s music, art, music, and video games. Dot was inspired by how much beauty and culture people had contributed through the years. All this reflecting on the past made Dot reflect on theirs – specifically, what they’d done over the past weeks. Dot had visited many different cultures across the earth, taking in the sights and sounds of cities in the Americas, Europe, Asia, and Australia. It had been incredible to see how different but similar societies across the world were. As they rode back to the airport to make their connecting flight, Dot smiled with happiness as they sifted through their memories. Will you join Dot in reminiscing as you review what you’ve learned over the past few weeks? \n"
   ]
  },
  {
   "cell_type": "markdown",
   "metadata": {},
   "source": [
    "### Tutorial\n",
    "\n",
    "Through the past 19 days, we've gone over the fundamentals of Python, Pandas, SQL and Matplotlib. With these technologies combined, you're well on your way to doing great data science and analytics work. In today's challenge, we'll be integrating aspects from all of the previous challenges, combining them to do a data analysis of the world cities we’ve visited."
   ]
  },
  {
   "cell_type": "markdown",
   "metadata": {},
   "source": [
    "### Challenge\n",
    "\n",
    "Pull the data from the **worldcities** table in the **world.db** database to the pandas DataFrame, then answer the following questions:\n",
    "\n",
    "1. **Using a Matplotlib histogram, visualize the distribution of population across all cities. What do you observe?**\n",
    "2. **Create a bar chart with the population of the top 10 most populated countries. Which country is most populated?**\n",
    "\n",
    "\n",
    "#### Stretch Questions\n",
    "\n",
    "- What is the most populated city Dot visited in the last three weeks?\n",
    "- What is the difference in population between the most populated city and the least populated city?\n"
   ]
  },
  {
   "cell_type": "code",
   "execution_count": 1,
   "metadata": {},
   "outputs": [],
   "source": [
    "import pandas as pd\n",
    "import matplotlib.pyplot as plt\n",
    "import sqlite3"
   ]
  },
  {
   "cell_type": "code",
   "execution_count": 2,
   "metadata": {},
   "outputs": [],
   "source": [
    "conn = sqlite3.connect(\"world.db\")"
   ]
  },
  {
   "cell_type": "code",
   "execution_count": 3,
   "metadata": {},
   "outputs": [
    {
     "data": {
      "text/html": [
       "<div>\n",
       "<style scoped>\n",
       "    .dataframe tbody tr th:only-of-type {\n",
       "        vertical-align: middle;\n",
       "    }\n",
       "\n",
       "    .dataframe tbody tr th {\n",
       "        vertical-align: top;\n",
       "    }\n",
       "\n",
       "    .dataframe thead th {\n",
       "        text-align: right;\n",
       "    }\n",
       "</style>\n",
       "<table border=\"1\" class=\"dataframe\">\n",
       "  <thead>\n",
       "    <tr style=\"text-align: right;\">\n",
       "      <th></th>\n",
       "      <th></th>\n",
       "      <th>lat</th>\n",
       "      <th>lng</th>\n",
       "      <th>iso2</th>\n",
       "      <th>iso3</th>\n",
       "      <th>capital</th>\n",
       "      <th>population</th>\n",
       "    </tr>\n",
       "    <tr>\n",
       "      <th>city_ascii</th>\n",
       "      <th>country</th>\n",
       "      <th></th>\n",
       "      <th></th>\n",
       "      <th></th>\n",
       "      <th></th>\n",
       "      <th></th>\n",
       "      <th></th>\n",
       "    </tr>\n",
       "  </thead>\n",
       "  <tbody>\n",
       "    <tr>\n",
       "      <th>Tokyo</th>\n",
       "      <th>Japan</th>\n",
       "      <td>35.6897</td>\n",
       "      <td>139.6922</td>\n",
       "      <td>JP</td>\n",
       "      <td>JPN</td>\n",
       "      <td>primary</td>\n",
       "      <td>37977000.0</td>\n",
       "    </tr>\n",
       "    <tr>\n",
       "      <th>Jakarta</th>\n",
       "      <th>Indonesia</th>\n",
       "      <td>-6.2146</td>\n",
       "      <td>106.8451</td>\n",
       "      <td>ID</td>\n",
       "      <td>IDN</td>\n",
       "      <td>primary</td>\n",
       "      <td>34540000.0</td>\n",
       "    </tr>\n",
       "    <tr>\n",
       "      <th>Delhi</th>\n",
       "      <th>India</th>\n",
       "      <td>28.6600</td>\n",
       "      <td>77.2300</td>\n",
       "      <td>IN</td>\n",
       "      <td>IND</td>\n",
       "      <td>admin</td>\n",
       "      <td>29617000.0</td>\n",
       "    </tr>\n",
       "    <tr>\n",
       "      <th>Mumbai</th>\n",
       "      <th>India</th>\n",
       "      <td>18.9667</td>\n",
       "      <td>72.8333</td>\n",
       "      <td>IN</td>\n",
       "      <td>IND</td>\n",
       "      <td>admin</td>\n",
       "      <td>23355000.0</td>\n",
       "    </tr>\n",
       "    <tr>\n",
       "      <th>Manila</th>\n",
       "      <th>Philippines</th>\n",
       "      <td>14.6000</td>\n",
       "      <td>120.9833</td>\n",
       "      <td>PH</td>\n",
       "      <td>PHL</td>\n",
       "      <td>primary</td>\n",
       "      <td>23088000.0</td>\n",
       "    </tr>\n",
       "  </tbody>\n",
       "</table>\n",
       "</div>"
      ],
      "text/plain": [
       "                            lat       lng iso2 iso3  capital  population\n",
       "city_ascii country                                                      \n",
       "Tokyo      Japan        35.6897  139.6922   JP  JPN  primary  37977000.0\n",
       "Jakarta    Indonesia    -6.2146  106.8451   ID  IDN  primary  34540000.0\n",
       "Delhi      India        28.6600   77.2300   IN  IND    admin  29617000.0\n",
       "Mumbai     India        18.9667   72.8333   IN  IND    admin  23355000.0\n",
       "Manila     Philippines  14.6000  120.9833   PH  PHL  primary  23088000.0"
      ]
     },
     "execution_count": 3,
     "metadata": {},
     "output_type": "execute_result"
    }
   ],
   "source": [
    "# note: there are cities with the same name, even within the same country\n",
    "# but for simplicity we will avoid making the distinction as it's not \n",
    "# necessary for these challenge questions\n",
    "\n",
    "df = pd.read_sql(\"\"\"SELECT * FROM worldcities\"\"\", conn, index_col=['city_ascii', 'country'])\n",
    "df.head()"
   ]
  },
  {
   "cell_type": "code",
   "execution_count": 4,
   "metadata": {},
   "outputs": [
    {
     "data": {
      "image/png": "[encoded data removed]",
      "text/plain": [
       "<Figure size 432x288 with 1 Axes>"
      ]
     },
     "metadata": {
      "needs_background": "light"
     },
     "output_type": "display_data"
    }
   ],
   "source": [
    "# Question 1\n",
    "\n",
    "plt.figure()\n",
    "plt.hist(df.population, log=True, bins=40)\n",
    "plt.show()"
   ]
  },
  {
   "cell_type": "code",
   "execution_count": 5,
   "metadata": {},
   "outputs": [
    {
     "data": {
      "image/png": "[encoded data removed]",
      "text/plain": [
       "<Figure size 432x288 with 1 Axes>"
      ]
     },
     "metadata": {
      "needs_background": "light"
     },
     "output_type": "display_data"
    }
   ],
   "source": [
    "# Question 2\n",
    "\n",
    "df_largest_countries = df.groupby('country')['population'].sum().nlargest(10)\n",
    "\n",
    "plt.figure()\n",
    "plt.bar(x=df_largest_countries.keys(), height=df_largest_countries.values)\n",
    "plt.show()"
   ]
  },
  {
   "cell_type": "code",
   "execution_count": 6,
   "metadata": {},
   "outputs": [
    {
     "data": {
      "text/plain": [
       "idxmax    (Tokyo, Japan)\n",
       "max           37977000.0\n",
       "Name: population, dtype: object"
      ]
     },
     "execution_count": 6,
     "metadata": {},
     "output_type": "execute_result"
    }
   ],
   "source": [
    "# Stretch question 1\n",
    "\n",
    "df_visited = df.loc[[\n",
    "    # Days 1-4\n",
    "    ('Vancouver', 'Canada'),\n",
    "    ('Toronto', 'Canada'),\n",
    "    ('Munich', 'Germany'),\n",
    "    # Day 5-6\n",
    "    ('London', 'United Kingdom'),\n",
    "    # Day 7\n",
    "    ('Barcelona', 'Spain'),\n",
    "    # Day 8\n",
    "    ('Paris', 'France'),\n",
    "    # Day 9\n",
    "    ('Florence', 'Italy'),\n",
    "    # Day 10-11\n",
    "    ('Dubai', 'United Arab Emirates'),\n",
    "    # Day 12\n",
    "    ('Perth', 'Australia'),\n",
    "    # Day 13\n",
    "    ('Melbourne', 'Australia'),\n",
    "    # Day 14: @ new zealand countryside\n",
    "    # Day 15-16: @ mount everest\n",
    "    # Day 17\n",
    "    ('Tokyo', 'Japan'),\n",
    "    # Day 18\n",
    "    ('Bangkok', 'Thailand'),\n",
    "    # Day 19\n",
    "    ('Honolulu', 'United States'),\n",
    "    # Day 20\n",
    "    ('Seattle', 'United States'),\n",
    "]]\n",
    "\n",
    "df_visited.population.agg(['idxmax', 'max'])"
   ]
  },
  {
   "cell_type": "code",
   "execution_count": 7,
   "metadata": {},
   "outputs": [
    {
     "data": {
      "text/plain": [
       "37596052.0"
      ]
     },
     "execution_count": 7,
     "metadata": {},
     "output_type": "execute_result"
    }
   ],
   "source": [
    "# Stretch question 2\n",
    "\n",
    "df_visited.population.max() - df_visited.population.min()"
   ]
  },
  {
   "cell_type": "markdown",
   "metadata": {},
   "source": [
    "### Answer\n",
    "\n",
    "1. The majority of cities has population smaller than 1 million\n",
    "2. China\n",
    "\n",
    "![Challenge 20 Solved](https://data-challenge.lighthouselabs.ca/img/badges/badge20@72x.png)"
   ]
  }
 ],
 "metadata": {
  "interpreter": {
   "hash": "416fa9769a4cd50bb185d13c02663a9481d7a18570b1ee862cc6a27de6992a60"
  },
  "kernelspec": {
   "display_name": "Python 3.10.4 ('ll21ddc')",
   "language": "python",
   "name": "python3"
  },
  "language_info": {
   "codemirror_mode": {
    "name": "ipython",
    "version": 3
   },
   "file_extension": ".py",
   "mimetype": "text/x-python",
   "name": "python",
   "nbconvert_exporter": "python",
   "pygments_lexer": "ipython3",
   "version": "3.10.4"
  },
  "orig_nbformat": 4
 },
 "nbformat": 4,
 "nbformat_minor": 2
}
