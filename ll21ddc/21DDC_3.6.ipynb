{
 "cells": [
  {
   "cell_type": "markdown",
   "metadata": {},
   "source": [
    "Ref: https://data-challenge.lighthouselabs.ca/challenge/20"
   ]
  },
  {
   "cell_type": "markdown",
   "metadata": {},
   "source": [
    "### **Day 20: *Combining Our Knowledge***\n",
    "\n",
    "After figuring out that Seattle has the best connection with Vancouver, Dot hopped on a flight heading north and east. The plane bounded over the endless Pacific until it began its descent over the Puget Sound, eventually landing in Washington State among the Space Needle and the tall office buildings where tech companies worked. What a different environment than Hawaii! Dot had some time to kill before they boarded their connection to Vancouver. Instead of wasting it in the airport, they checked out the city. Dot had never been to Seattle before and wanted to visit the Museum of Pop Culture for the first time. \n",
    "\n",
    "The building rose up strangely and majestically before Dot’s eyes, resembling a quilt of colourful, hallucinatory sheets of metal blowing in the wind. Dot had never seen anything like it. Inside, they strolled through the exhibits paying tribute to humanity’s music, art, music, and video games. Dot was inspired by how much beauty and culture people had contributed through the years. All this reflecting on the past made Dot reflect on theirs – specifically, what they’d done over the past weeks. Dot had visited many different cultures across the earth, taking in the sights and sounds of cities in the Americas, Europe, Asia, and Australia. It had been incredible to see how different but similar societies across the world were. As they rode back to the airport to make their connecting flight, Dot smiled with happiness as they sifted through their memories. Will you join Dot in reminiscing as you review what you’ve learned over the past few weeks? \n"
   ]
  },
  {
   "cell_type": "markdown",
   "metadata": {},
   "source": [
    "### Tutorial\n",
    "\n",
    "Through the past 19 days, we've gone over the fundamentals of Python, Pandas, SQL and Matplotlib. With these technologies combined, you're well on your way to doing great data science and analytics work. In today's challenge, we'll be integrating aspects from all of the previous challenges, combining them to do a data analysis of the world cities we’ve visited."
   ]
  },
  {
   "cell_type": "markdown",
   "metadata": {},
   "source": [
    "### Challenge\n",
    "\n",
    "Pull the data from the **worldcities** table in the **world.db** database to the pandas DataFrame, then answer the following questions:\n",
    "\n",
    "1. **Using a Matplotlib histogram, visualize the distribution of population across all cities. What do you observe?**\n",
    "2. **Create a bar chart with the population of the top 10 most populated countries. Which country is most populated?**\n",
    "\n",
    "\n",
    "#### Stretch Questions\n",
    "\n",
    "- What is the most populated city Dot visited in the last three weeks?\n",
    "- What is the difference in population between the most populated city and the least populated city?\n"
   ]
  },
  {
   "cell_type": "code",
   "execution_count": 1,
   "metadata": {},
   "outputs": [],
   "source": [
    "import pandas as pd\n",
    "import matplotlib.pyplot as plt\n",
    "import sqlite3"
   ]
  },
  {
   "cell_type": "code",
   "execution_count": 2,
   "metadata": {},
   "outputs": [],
   "source": [
    "conn = sqlite3.connect(\"world.db\")"
   ]
  }
 ],
 "metadata": {
  "interpreter": {
   "hash": "416fa9769a4cd50bb185d13c02663a9481d7a18570b1ee862cc6a27de6992a60"
  },
  "kernelspec": {
   "display_name": "Python 3.10.4 ('ll21ddc')",
   "language": "python",
   "name": "python3"
  },
  "language_info": {
   "codemirror_mode": {
    "name": "ipython",
    "version": 3
   },
   "file_extension": ".py",
   "mimetype": "text/x-python",
   "name": "python",
   "nbconvert_exporter": "python",
   "pygments_lexer": "ipython3",
   "version": "3.10.4"
  },
  "orig_nbformat": 4
 },
 "nbformat": 4,
 "nbformat_minor": 2
}
