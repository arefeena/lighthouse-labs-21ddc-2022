{
 "cells": [
  {
   "cell_type": "markdown",
   "metadata": {},
   "source": [
    "Ref: Ref: https://data-challenge.lighthouselabs.ca/challenge/3"
   ]
  },
  {
   "cell_type": "markdown",
   "metadata": {},
   "source": [
    "### **Day 3: *Lists in Python***\n",
    "\n",
    "A long flight is an excellent time for reflection and meditation, and Dot couldn’t wait to settle into their seat and rest. The plane was huge, with hundreds of seats, rows and rows of them stretching down the long aisles. Dot glanced down at their ticket to see which of the seats belonged to them. Just at that moment, another passenger in the aisle stumbled and knocked right into Dot. “Oh dear, I apologize, fellow flyer!” the passenger says, “sometimes I just can’t seem to get my bearings, stumbling every which way! I hope I did not disturb you too intensely.” Dot smiled and reassured the odd woman, clarifying that they weren’t harmed. \n",
    "\n",
    "Dot looked back towards their ticket —  oh no! It seemed that Dot spilled some of their coffee on the slip of paper during the hubbub. There was a dark wet spot right over where the seat number was supposed to be. Dot looked up and down the plane and saw that most of the seats were already occupied by passengers. They need to find their seat quickly before the plane takes off — let’s use our data skills to help them verify their seat number. \n"
   ]
  },
  {
   "cell_type": "markdown",
   "metadata": {},
   "source": [
    "### Tutorial\n",
    "\n",
    "In Python, **lists** are a type of variable that can be sequenced. Lists can contain many items that can be indexed by integers, with items being kept separate by the ','. \n",
    "\n",
    "```python\n",
    "list = [] #lists are called using the square brackets\n",
    "\n",
    "list_of_int = [1,2,3,4,5] #list of integers\n",
    "list_of_string = ['string1','string2', 'string3'] #list of strings\n",
    "list_of_anything = [1, 'string', 3.2] #list with an integer, string, and float.\n",
    "```\n",
    "\n",
    "To learn more about lists, check out this article [here](https://realpython.com/python-lists-tuples/)."
   ]
  },
  {
   "cell_type": "markdown",
   "metadata": {},
   "source": [
    "**Indexing or Slicing Lists**\n",
    "\n",
    "In the previous challenge we introduced you to lists. Lists are Python data structures that can hold many types of data in a sequence. The act of calling specific data in a list based on their position within the list is referred to as **indexing or slicing**. \n",
    "\n",
    "```python \n",
    "list_of_int = [1,2,3,4,5] # list of integers\n",
    "list_of_string = ['string1','string2', 'string3'] # list of strings\n",
    "list_of_anything = [1, 'string', 3.2] # list with an integer, string, and float.\n",
    "\n",
    "list_of_string[0] # will print out 'string1'\n",
    "\n",
    "list_of_int[0:2] # will print out [1,2,3]\n",
    "```\n",
    "To read more on list indexing and slicing, read this [article](https://towardsdatascience.com/the-basics-of-indexing-and-slicing-python-lists-2d12c90a94cf)\n",
    "\n",
    "**Note:** Python is a zero-based indexing language, meaning that the first element of a sequence will be at index = 0. In some other languages, the first element of a sequence is at index = 1 instead.\n",
    "\n",
    "**Appending and Replacing Values in Lists**\n",
    "\n",
    "Python lists are mutable structures, meaning a list's size or values can be changed. Below are some of the common methods of changing values in a list. \n",
    "\n",
    "To learn more about the various Python list methods, read this [article](https://towardsdatascience.com/python-list-methods-fa7c53010300)\n",
    "\n",
    "```python\n",
    "list_of_int = [1 , 2 , 3 , 4 ,5] # list of integers\n",
    "\n",
    "list_of_int.append('value') # Running this line of code will update list_of_int = [1,2,3,4,5, 'value']\n",
    "\n",
    "list_of_int.insert(3 , 3.5) # Insert 3.5 in index 3, resulting in list_of_int = [1,2,3,3.5,4,5]\n",
    "\n",
    "list_of_int.pop(0) # Removes the value in position 0, list_of_int = [2,3,4,5]\n",
    "```"
   ]
  },
  {
   "cell_type": "markdown",
   "metadata": {},
   "source": [
    "### Challenge\n",
    "\n",
    "We need to find Dot an empty seat on the plane. We have logged the layout of the section of the plane as a Python list. This is formatted as  a **nested** list, which means that elements of the list are lists as well. Listception.\n",
    "\n",
    "\n",
    "**Note:** Our plane section contains three sections of seats in each row, and three seats in each section. Here is what the values in the layout mean: \n",
    "- `e` = empty seat\n",
    "- `o` = occupied seat\n",
    "- None = aisle (you can't sit here!)\n",
    "- Capital letters = window seats\n",
    "\n",
    "```python\n",
    "layout = [\n",
    "    [\"O\",\"e\",\"e\",None, \"e\",\"o\",\"e\",None, \"o\",\"o\",\"E\"], # row 1\n",
    "    [\"O\",\"o\",\"e\",None, \"e\",\"o\",\"e\",None, \"e\",\"o\",\"E\"], # row 2\n",
    "    [\"O\",\"o\",\"o\",None, \"o\",\"o\",\"e\",None, \"o\",\"e\",\"O\"], # row 3\n",
    "    [\"E\",\"o\",\"e\",None, \"e\",\"o\",\"e\",None, \"o\",\"e\",\"E\"], # row 4 \n",
    "    [\"E\",\"e\",\"o\",None, \"e\",\"e\",\"e\",None, \"o\",\"o\",\"E\"], # row 5\n",
    "    [\"O\",\"e\",\"e\",None, \"e\",\"e\",\"e\",None, \"e\",\"e\",\"E\"]  # row 6\n",
    "]\n",
    "``` \n",
    "\n",
    "Dot has two conditions for their sitting:\n",
    "- It has to be window seat\n",
    "- The next seat needs to be empty\n",
    "\n",
    "**Identify the right place for Dot to sit. If there is more than one option that matches the conditions above, choose the seat that is closer to the front, i.e. has a lower row number. What is the list index of Dot's seat?**\n"
   ]
  },
  {
   "cell_type": "markdown",
   "metadata": {},
   "source": [
    "#### Stretch Question\n",
    "\n",
    "**Use python's pop() and insert() list functions to change Dot's seat from `E` to `O`.**\n",
    "\n",
    "*Stretch Questions are not required to be completed to finish the challenge but are recommended to further develop your skills.*\n",
    "\n",
    "```\n",
    "new_layout = ...\n",
    "```"
   ]
  }
 ],
 "metadata": {
  "language_info": {
   "name": "python"
  },
  "orig_nbformat": 4
 },
 "nbformat": 4,
 "nbformat_minor": 2
}
