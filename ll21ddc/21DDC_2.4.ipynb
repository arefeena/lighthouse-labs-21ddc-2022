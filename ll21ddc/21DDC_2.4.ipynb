{
 "cells": [
  {
   "cell_type": "markdown",
   "metadata": {},
   "source": [
    "Ref: https://data-challenge.lighthouselabs.ca/challenge/11"
   ]
  },
  {
   "cell_type": "markdown",
   "metadata": {},
   "source": [
    "### **Day 11: *Advanced Group By Uses in Pandas***\n",
    "\n",
    "Taking a break from looking at property prices, Dot went outside to enjoy a classic Emirati breakfast. At a quaint restaurant, they had a delicious plate of shakshuka, or poached eggs with tomatoes, olive oil, onion, and garlic, and a side of khameer bread, a soft, sweet loaf with dates, fennel, saffron, and cardamom. Getting up from their chair with a full belly and a feeling of satisfaction, Dot summoned a taxi and directed the driver to take them over to Dubai Mall, the second-largest mall in the world! \n",
    "\n",
    "The car pulled up to a massive complex, several stories tall and stretching across for miles, with the look of many different buildings mashed up together, surrounded by a large, glimmering pool of water with a fountain. Inside, Dot looked around in wonder at the several levels of stores that seemingly went on for eternity. It was like an enclosed city in itself, with different neighbourhoods of different types of stores and amenities. Dot journeyed over to the large indoor aquarium and spent most of the day staring happily at the manta rays, sharks, and fish. They successfully avoided spending too much money – after all, they needed to save considering the cost of the trip itself. Dot returned to the hotel with an even warmer feeling about Dubai at the end of a happy day. “I could get used to living here,” they said. “Let me look at these property prices again…” Can you help Dot figure out more information about property prices in Dubai? "
   ]
  },
  {
   "cell_type": "markdown",
   "metadata": {},
   "source": [
    "### Tutorial\n",
    "Within pandas, one of the most essential and useful functions for data analysis is the group by function. During this challenge, we are going to take a look at more complex group by uses.\n",
    "\n",
    "You might have noticed that the aggregate functions we used with group by yesterday were always applied to all columns. But what if we wanted to apply different functions to different columns? Do we need to do each column individually? If you think there’s a more efficient way, you’re correct. Pandas has a better way. \n",
    "\n",
    "```python\n",
    "import pandas as pd\n",
    "df = pd.read_csv('dubai_properties_data.csv')\n",
    "\n",
    "# old way - averages of both columns were computed for each neighborhood\n",
    "df.groupby(['neighborhood'])[[\"price\",\"price_per_sqft\"]].mean()\n",
    "\n",
    "# new way - using the aggregate function .agg()\n",
    "df.groupby(['neighborhood']).agg({'price' : 'mean', 'price_per_sqft' : 'max'})\n",
    "```\n",
    "\n",
    "We can use the aggregate function **.agg()** to select the aggregation we want to do for each column. We are using a Python dictionary as a parameter of the **.agg()** function, where the keys of the dictionary are column names, and the values are functions we want to apply. Furthermore, we can even do two aggregations on one column:\n",
    "\n",
    "```python\n",
    "df.groupby(['neighborhood']).agg({'price' : ['mean','max']})\n",
    "```\n",
    "\n",
    "You can visit [the documentation](https://pandas.pydata.org/pandas-docs/stable/reference/api/pandas.core.groupby.DataFrameGroupBy.aggregate.html?highlight=groupby%20sum) to have more examples of how to use groupby together with the **.agg()** function."
   ]
  },
  {
   "cell_type": "code",
   "execution_count": null,
   "metadata": {},
   "outputs": [],
   "source": [
    "import pandas as pd\n",
    "df = pd.read_csv('dubai_properties_data.csv')\n",
    "df.head()"
   ]
  },
  {
   "cell_type": "markdown",
   "metadata": {},
   "source": [
    "### Challenge\n",
    "\n",
    "**Using the functions described above, which neighborhood has the biggest difference between maximum and minimum property price?**"
   ]
  }
 ],
 "metadata": {
  "interpreter": {
   "hash": "416fa9769a4cd50bb185d13c02663a9481d7a18570b1ee862cc6a27de6992a60"
  },
  "kernelspec": {
   "display_name": "Python 3.10.4 ('ll21ddc')",
   "language": "python",
   "name": "python3"
  },
  "language_info": {
   "name": "python",
   "version": "3.10.4"
  },
  "orig_nbformat": 4
 },
 "nbformat": 4,
 "nbformat_minor": 2
}
