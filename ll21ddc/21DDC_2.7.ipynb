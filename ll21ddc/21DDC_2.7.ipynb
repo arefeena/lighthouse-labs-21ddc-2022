{
 "cells": [
  {
   "cell_type": "markdown",
   "metadata": {},
   "source": [
    "Ref: https://data-challenge.lighthouselabs.ca/challenge/14"
   ]
  },
  {
   "cell_type": "markdown",
   "metadata": {},
   "source": [
    "### **Day 14: *Combining Functions in Pandas*** \n",
    "\n",
    "Just as Dot left the zoo in Melbourne, chaos reared its head once more. A loud horn blared from over the entrance to the zoo, stopping Dot in their tracks. A crackly loudspeaker clicked on, and from within it, an alarmed voice sent out a message: “All hands on deck! All hands on deck! The wallabies are loose! I repeat, the wallabies are loose!” Around Dot, the zoo’s other patrons began to yell and scatter in all directions, running and sprinting, abandoning their bags and strollers. “It’s the end!” yelled a frantic, wheezing man as he ran by Dot. A uniformed zoo employee stuck her head out of the gate and pointed toward Dot. “You there! You look calm and trustworthy. Give us a hand in here, will you?” She grabbed Dot by the arm and yanked them back into the zoo. The employee began to run, gesturing for Dot to run with her. “What’s happening?” Dot yelled at the woman, and she shook her head as they ran. “You’ll see in a minute,” she said. “Wait – right there!” Dot followed the woman’s pointing finger. In the middle of the walking path, right ahead of them, were two mid-sized wallabies standing upright and rigid, gazing straight at Dot. \n",
    "\n",
    "“You take the one on the left, and I got the one on the right,” the employee said, tip-toeing stealthily towards the wallabies. “What do you mean?” Dot asked fearfully. “Just grab him!” the woman yelled, lunging at her wallaby. Without thinking, Dot pounced at the wallaby, who hopped casually out of the way and aimed a kick at Dot’s leg. Dot rolled, and the kick missed them by an inch. They sprung back to their feet and lunged at the wallaby, capturing the fuzzy creature in a bear hug. “What do I do with him?” Dot yelled, struggling with the animal. “Here, friend, here!” The woman yelled. She had the other wallaby wrapped in a giant net; Dot hopped over with their wallaby and nudged him into it. After the wallabies were safe, Dot collapsed to the floor, panting with exertion. “Thanks a lot, kind stranger,” the employee said, slapping Dot on the back. “You look like you need a break!” Dot nodded. “This has been a hectic day, but my next destination might be more tranquil – I’m headed over to New Zealand soon.” The woman advised Dot to take solace in the New Zealand countryside. \n",
    "\n",
    "Dot wants to know where the calmest, most relaxing place in New Zealand is. Can you help them figure out where that is by examining New Zealand’s road traffic data?"
   ]
  },
  {
   "cell_type": "markdown",
   "metadata": {},
   "source": [
    "\n",
    "### Tutorial\n",
    "\n",
    "In today's challenge, you will be using and combining the various functions you have learned over the last few challenges. \n",
    "\n",
    "1. **Dataframe column functions like .min() or .max()**\n",
    "    - introduced in the Day 7 challenge. \n",
    "    \n",
    "2. **Pandas Group By**\n",
    "    - introduced in the Day 10 and 11 challenges.\n",
    "    \n",
    "3. **Pandas Unstack() function**\n",
    "    - introduced in the Day 12 challenge.\n",
    "    \n",
    "4. **Plotting in Pandas**\n",
    "    - introduced in the Day 13 challenge.\n",
    "    \n",
    "    \n",
    "If you have forgotten how to use some of these functions don't worry, data scientists and analysts always have a cheat sheet handy. You can check out the pandas user guide in the [pandas documentation](https://pandas.pydata.org/docs/user_guide/index.html#user-guide) or refer to the [forum](https://21day-data-forum.lighthouselabs.ca/) or Google for help."
   ]
  },
  {
   "cell_type": "code",
   "execution_count": null,
   "metadata": {},
   "outputs": [],
   "source": [
    "# We will be using data that contains traffic information for New Zealand during the year 2020.\n",
    "import pandas as pd\n",
    "df = pd.read_csv('nz_car_traffic.csv')\n",
    "df.head()"
   ]
  },
  {
   "cell_type": "markdown",
   "metadata": {},
   "source": [
    "### Challenge\n",
    "\n",
    "1. **Find the region (using variable regionName) with the lowest total amount of light (using variable classWeight) traffic, and the region with the lowest total amount of heavy (using variable classWeight) traffic**\n",
    "2. **Using a bar chart, which month had the lowest amount of total traffic in 2020?**\n",
    "3. **What percent of New Zealand’s traffic (using variable trafficCount) was classified as heavy (using variable classWeight) in 2020?**"
   ]
  }
 ],
 "metadata": {
  "interpreter": {
   "hash": "416fa9769a4cd50bb185d13c02663a9481d7a18570b1ee862cc6a27de6992a60"
  },
  "kernelspec": {
   "display_name": "Python 3.10.4 ('ll21ddc')",
   "language": "python",
   "name": "python3"
  },
  "language_info": {
   "name": "python",
   "version": "3.10.4"
  },
  "orig_nbformat": 4
 },
 "nbformat": 4,
 "nbformat_minor": 2
}
