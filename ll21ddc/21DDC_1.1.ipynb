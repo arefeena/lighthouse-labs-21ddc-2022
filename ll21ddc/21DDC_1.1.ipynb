{
 "cells": [
  {
   "cell_type": "markdown",
   "metadata": {},
   "source": [
    "Ref: https://data-challenge.lighthouselabs.ca/challenge/1"
   ]
  },
  {
   "cell_type": "markdown",
   "metadata": {},
   "source": [
    "### **Day 1: *Variables and Numbers in Python***\n",
    "\n",
    "The chilly wetness of the west coast’s winter had descended upon Vancouver, and Dot wasn’t too happy about it. The rain pattered down on the city’s streets all day long, the dark rainclouds obscuring the beautiful view of the Pacific coastline that Dot loved so much. Staring out the window from the home they remotely worked from, Dot began to think that it was time to take a trip. Dot had been saving up their vacation time at work — everything lined up perfectly. They even had a friend who would be eager to watch over their pet snake, Python. The more they thought about it, the more appealing the idea seemed. It was time for Dot to take a courageous leap and go international…to Europe and beyond!\n",
    "\n",
    "Dot opened a browser on their laptop and started looking into flights. Their savings account wasn’t bottomless, and the trip would be expensive, so they had to make sure to do things efficiently. Plus, the intercontinental flight would be very long, and Dot got restless on planes — they wanted to book a flight that would give them the best value per hour of flight duration. Dot wanted to fly to Europe from the Canadian city that would give them the best combination of value/duration. Dot could manually browse through all the available flights to compare them, but they knew there was a better way to do things — we can use data skills to map out the flights for them and decide from which city they should fly out. \n",
    "\n",
    "-------------------------------"
   ]
  },
  {
   "cell_type": "markdown",
   "metadata": {},
   "source": [
    "### Tutorial\n",
    "\n",
    "**Jupyter Notebooks**\n",
    "\n",
    "This document that you're currently reading is called a \"Jupyter Notebook\". It's similar to a text document, but you can do many things with it:\n",
    "\n",
    "- run code \n",
    "- show graphs\n",
    "- pull data from various databases \n",
    "\n",
    "We will learn all of those things during the 21 days.\n",
    "\n",
    "The most important thing in Jupyter Notebooks is: **everything is a _cell_**\n",
    "\n",
    "Notebooks are organized as a set of _\"cells\"_. Each cell can contain different types of content: like Python code, images or even human readable text (markdown), like the one you're currently reading."
   ]
  },
  {
   "cell_type": "markdown",
   "metadata": {},
   "source": [
    "You can edit these cells by double clicking on them. Try editing the following cell:"
   ]
  },
  {
   "cell_type": "markdown",
   "metadata": {},
   "source": [
    "**👉 Edit this cell 👈**"
   ]
  },
  {
   "cell_type": "markdown",
   "metadata": {},
   "source": [
    "When you double click the cell it will open an `edit mode`.\n"
   ]
  },
  {
   "cell_type": "markdown",
   "metadata": {},
   "source": [
    "Once you've made the changes, you have to **\"run\"** the cell to disply the changes. You can see how cell can be run in the following cell."
   ]
  },
  {
   "cell_type": "markdown",
   "metadata": {},
   "source": [
    "There are many keyboard shortcuts that will let you interact with your documents, run code and make other changes. For example, there are two shortcuts to execute a cell:\n",
    "\n",
    "1. `shift + return`: Run cell and advance to the next one.\n",
    "2. `ctrl  + return`: Run the cell but don't change focus."
   ]
  },
  {
   "cell_type": "markdown",
   "metadata": {},
   "source": [
    "There are a couple of differences between `edit` and `command` mode:\n",
    "- Edit mode is indicated by a blue (can be green in some versions) cell border and a prompt showing in the editor area. Here you can type text or  code inside a cell\n",
    "- Command mode is indicated by a grey cell border with a blue left margin. Here you can edit the whole of the notebook. e.g Keyboard short cuts `A`  to add  a cell above or `B`  to add a cell below.\n",
    "- If you are focused on a cell and in edit mode, you can enter command mode with `esc` key, or hit `enter` to toggle back to edit mode"
   ]
  },
  {
   "cell_type": "markdown",
   "metadata": {},
   "source": [
    "Here are a few examples of what content in cells can look like. Try running the following cells:"
   ]
  },
  {
   "cell_type": "code",
   "execution_count": 8,
   "metadata": {},
   "outputs": [],
   "source": [
    "# empty cell"
   ]
  },
  {
   "cell_type": "code",
   "execution_count": 9,
   "metadata": {},
   "outputs": [
    {
     "name": "stdout",
     "output_type": "stream",
     "text": [
      "2\n"
     ]
    }
   ],
   "source": [
    "# Python Code\n",
    "print(1+1)"
   ]
  },
  {
   "cell_type": "code",
   "execution_count": 10,
   "metadata": {},
   "outputs": [
    {
     "data": {
      "text/plain": [
       "4"
      ]
     },
     "execution_count": 10,
     "metadata": {},
     "output_type": "execute_result"
    }
   ],
   "source": [
    "2 + 2"
   ]
  },
  {
   "cell_type": "markdown",
   "metadata": {},
   "source": [
    "While in command mode, you can create new empty cells by using following shortcuts:\n",
    "1. `A`: to create cell **above** the one you are currently at\n",
    "2. `B`: to create cell **below** the one you are currently at"
   ]
  },
  {
   "cell_type": "markdown",
   "metadata": {},
   "source": [
    "**Now, let's go to learn some basics of Python programming!!**"
   ]
  },
  {
   "cell_type": "markdown",
   "metadata": {},
   "source": [
    "#### Variables in Python\n",
    "\n",
    "The Python programming language is built on structures called variables. Put simply, variables are structures that store values within them. A variable can come in many different forms, including strings, integers, and lists.\n",
    "\n",
    "```python\n",
    "var_a = 'This is a string.'\n",
    "\n",
    "var_b = 2022\n",
    "\n",
    "var_c = 2022.3\n",
    "\n",
    "var_d = ['This','is','a','list','on', 'the',21,'day data challenge.']\n",
    "```\n",
    "\n",
    "**Note:** In the example above, *var_a* is a **string**, and *var_d* is a **list**. We’ll cover strings and lists in later challenges, but for now let’s focus on numbers. \n",
    "\n",
    "**Numbers in Python**\n",
    "\n",
    "There are two main numeric data types in Python: **integers** and **float**, or floating point numbers (`var_b` and `var_c` above respectively).\n",
    "\n",
    "The integer data type refers to **whole numbers**, while float data type refers to any numeric value that isn't a whole, like a **fraction or a decimal**. You can identify whether something is an integer or a float by looking for a decimal point: integers won’t have one, but floats will. \n",
    "\n",
    "In Python as well as any other programming language, there are a variety of math operations you can use to do basic arithmetic. \n",
    "\n",
    "To learn more about numbers in Python, take a look at these articles [here](https://realpython.com/python-numbers/) and [here](https://codingexplained.com/coding/python/basic-math-operators-in-python)."
   ]
  },
  {
   "cell_type": "markdown",
   "metadata": {},
   "source": [
    "### Challenge \n",
    "\n",
    "Dot wants to find a connection to Europe that will give them the best value per hour of travel time. The following tickets are available for the connection:\n",
    "\n",
    "- Vancouver - Toronto: 250 CAD, travel time 3.5 hours\n",
    "- Vancouver - Ottawa: 280 CAD, travel time 4 hours\n",
    "- Vancouver - Montreal: 240 CAD, travel time 4 hours\n",
    "- Vancouver - Edmonton: 150 CAD, travel time 1.5 hours\n",
    "- Vancouver - Calgary: 180 CAD, travel time 1 hour\n",
    "\n",
    "These tickets are available for the second leg of the trip: \n",
    "\n",
    "- Ottawa - Berlin: 1350 CAD, layover: 3.5 hours, travel time 9 hours\n",
    "- Montreal - London: 1300 CAD, layover: 2 hours, travel time 8 hours\n",
    "- Edmonton - London: 1200 CAD, layover: 5 hours, travel time 10 hours\n",
    "- Calgary - London: 1400 CAD, layover: 2.5 hours, travel time 10 hours\n",
    "- Toronto - Munich: 990 CAD, layover: 1.5 hours, travel time 9.5 hours\n",
    "\n",
    "**Using math operators in Python, find out which flight will give Dot the best value per hour of travel time.**\n",
    "\n",
    "`value = price_paid / travel_time`"
   ]
  },
  {
   "cell_type": "code",
   "execution_count": 11,
   "metadata": {},
   "outputs": [],
   "source": [
    "van_tor_price = 250\n",
    "van_ott_price = 280\n",
    "van_mon_price = 240\n",
    "van_edm_price = 150\n",
    "van_cal_price = 180\n",
    "\n",
    "van_tor_travel_time = 3.5\n",
    "van_ott_travel_time = 4\n",
    "van_mon_travel_time = 4\n",
    "van_edm_travel_time = 1.5\n",
    "van_cal_travel_time = 1\n",
    "\n",
    "ott_ber_price = 1350\n",
    "mon_lon_price = 1300\n",
    "edm_lon_price = 1290\n",
    "cal_lon_price = 1400\n",
    "tor_mun_price = 990\n",
    "\n",
    "ott_layover = 3.5\n",
    "mon_layover = 2\n",
    "edm_layover = 5\n",
    "cal_layover = 2.5\n",
    "tor_layover = 1.5\n",
    "\n",
    "ott_ber_travel_time = 9\n",
    "mon_lon_travel_time = 8\n",
    "edm_lon_travel_time = 10\n",
    "cal_lon_travel_time = 10\n",
    "tor_mun_travel_time = 9.5"
   ]
  },
  {
   "cell_type": "code",
   "execution_count": 12,
   "metadata": {},
   "outputs": [
    {
     "data": {
      "text/plain": [
       "'vtm'"
      ]
     },
     "execution_count": 12,
     "metadata": {},
     "output_type": "execute_result"
    }
   ],
   "source": [
    "values = {\n",
    "    \"vtm\": (van_tor_price + tor_mun_price) / (van_tor_travel_time + tor_layover + tor_mun_travel_time),\n",
    "    \"vob\": (van_ott_price + ott_ber_price) / (van_ott_travel_time + ott_layover + ott_ber_travel_time),\n",
    "    \"vel\": (van_edm_price + edm_lon_price) / (van_edm_travel_time + edm_layover + edm_lon_travel_time),\n",
    "    \"vml\": (van_mon_price + mon_lon_price) / (van_mon_travel_time + mon_layover + mon_lon_travel_time),\n",
    "    \"vcl\": (van_cal_price + cal_lon_price) / (van_cal_travel_time + cal_layover + cal_lon_travel_time),\n",
    "}\n",
    "\n",
    "min(values, key=values.get)"
   ]
  },
  {
   "cell_type": "markdown",
   "metadata": {},
   "source": [
    "### Answer\n",
    "\n",
    "Vancouver → Toronto → Munich                \n",
    "\n",
    "![Challenge 1 Solved](https://data-challenge.lighthouselabs.ca/img/badges/badge1@72x.png)"
   ]
  }
 ],
 "metadata": {
  "interpreter": {
   "hash": "284f45f08ccb32755c03f9356b1501946f53caee7f8e16ffbb9625966406e9e1"
  },
  "kernelspec": {
   "display_name": "Python 3.9.7 ('base')",
   "language": "python",
   "name": "python3"
  },
  "language_info": {
   "codemirror_mode": {
    "name": "ipython",
    "version": 3
   },
   "file_extension": ".py",
   "mimetype": "text/x-python",
   "name": "python",
   "nbconvert_exporter": "python",
   "pygments_lexer": "ipython3",
   "version": "3.9.7"
  },
  "orig_nbformat": 4
 },
 "nbformat": 4,
 "nbformat_minor": 2
}
