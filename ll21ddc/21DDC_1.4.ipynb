{
 "cells": [
  {
   "cell_type": "markdown",
   "metadata": {},
   "source": [
    "Ref: https://data-challenge.lighthouselabs.ca/challenge/4"
   ]
  },
  {
   "cell_type": "markdown",
   "metadata": {},
   "source": [
    "### **Day 4: *Dictionaries in Python***\n",
    "\n",
    "Thanks to your help, Dot found their seat and enjoyed a relaxing but long flight. At the end of the voyage, they arrived at their first European destination, Munich. They took a taxi to the hotel after landing. Out of the car window, Dot stared in awe at the beautiful centuries-old buildings with elegant stone facades and gorgeous towers. They were so excited to begin exploring the city and taking in its rich history. Dot checked into their hotel room and threw down their belongings before heading out to the city. \n",
    "\n",
    "First on Dot’s list to see was the Asam Church, a structure from the 18th century constructed by two brothers. The inspiring Baroque monument was filled with incredible columns, fixtures, and sculptures, including many little golden angels and cherubs. As they regarded this feat of architecture, Dot tried to let the spirit of wonder enter them. But instead, they were filled with the spirit of hunger. Dot hadn’t had much to eat since they were on the plane and were starved. So they ran to a nearby restaurant, excited to try some authentic German food and, of course, beer. We can help Dot look through the menu using data analysis."
   ]
  },
  {
   "cell_type": "markdown",
   "metadata": {},
   "source": [
    "### Tutorial\n",
    "\n",
    "In addition to lists, Python has another data structure called a **dictionary**, which is similar to a list. The main difference is that lists are *ordered* sets of objects, whereas dictionaries are *unordered* sets of objects. Items in lists can be accessed by their positions, but in dictionaries items are accessed by their *keys*. A key might contain a list, and in that case the list that can be accessed and indexed as usual . See the example below. To learn more about Python dictionaries, read this [article](https://realpython.com/python-dicts/).\n",
    "\n",
    "```python\n",
    "dictionary = {\n",
    "    \"first_key\": 0,\n",
    "    \"second_key\": \"this can also be a string\",\n",
    "    \"list_key\": [\"value_1\",\"value_2\"],\n",
    "    \"list_key_2\":[1,2],\n",
    "    \"list_key_3\":[1,2,'value_3']\n",
    "}\n",
    "\n",
    "print(dictionary['list_key'])\n",
    "print(dictionary['list_key_2'][1])\n",
    "```"
   ]
  },
  {
   "cell_type": "markdown",
   "metadata": {},
   "source": [
    "### Challenge\n",
    "\n",
    "Dot doesn't travel to Europe often, so they decide to take the most expensive option for each course as well as drink. Create a new dictionary called `meals` that will contain the names of the courses as the keys (starters, mains...), and the name of the food or drink item  as the values.\n",
    "\n",
    "\n",
    "**After assembling the dictionary appropriately, when Dot gives a 10% tip on this meal, how much will the tip come out to?**\n"
   ]
  },
  {
   "cell_type": "code",
   "execution_count": 1,
   "metadata": {},
   "outputs": [],
   "source": [
    "starters = {\n",
    "    \"Potato Pancakes\": 7.99,\n",
    "    \"Salami Platter\": 10.29,\n",
    "    \"Brezel\": 6.99,\n",
    "    \"Maultaschen\": 9.99,\n",
    "    \"Fried Potatoes\": 4.99\n",
    "}\n",
    "\n",
    "mains = {\n",
    "    \"Braised Beef Short Ribs\": 18.99,\n",
    "    \"Paprika Beef Goulash\": 15.5,\n",
    "    \"Jager Schnitzel\": 16.99,\n",
    "    \"House-mase Bratwurst\": 11.99,\n",
    "    \"Kasespatzle\": 14.99,\n",
    "    \"German Ravioli\": 12.79,\n",
    "    \"Curry Wurst\": 10.99\n",
    "}\n",
    "\n",
    "desserts = {\n",
    "    \"Chilled Chocolate Fondant\": 7.9,\n",
    "    \"Pepermint Crisp Tart\": 5.9,\n",
    "    \"Ginger Cobbler\": 6.9,\n",
    "    \n",
    "}\n",
    "\n",
    "beers = {\n",
    "    \"Stigel Radler\": 6.9,\n",
    "    \"Munich Lager\": 7.9,\n",
    "    \"Kong Ludwig Weissbier\": 8.9,\n",
    "    \"Warsteiner Punkel\": 7.5,\n",
    "}\n",
    "\n",
    "\n",
    "# if you want to see the keys of the dictionary in the list: keys = list(starters.keys())\n",
    "# if you want to see the keys of the dictionary in the list: values = list(starters.values())"
   ]
  },
  {
   "cell_type": "code",
   "execution_count": 2,
   "metadata": {},
   "outputs": [
    {
     "name": "stdout",
     "output_type": "stream",
     "text": [
      "{'starters': 'Salami Platter', 'mains': 'Braised Beef Short Ribs', 'desserts': 'Chilled Chocolate Fondant', 'beers': 'Kong Ludwig Weissbier'}\n",
      "4.608\n"
     ]
    }
   ],
   "source": [
    "meals = {\n",
    "    \"starters\": max(starters, key=starters.get),\n",
    "    \"mains\": max(mains, key=mains.get),\n",
    "    \"desserts\": max(desserts, key=desserts.get),\n",
    "    \"beers\": max(beers, key=beers.get),\n",
    "}\n",
    "\n",
    "print(meals)\n",
    "\n",
    "total_price = 0\n",
    "\n",
    "for course, meal in meals.items():\n",
    "    total_price += locals().get(course).get(meal)\n",
    "\n",
    "tip = total_price * 0.10\n",
    "print(tip)"
   ]
  },
  {
   "cell_type": "markdown",
   "metadata": {},
   "source": [
    "### Answer\n",
    "\n",
    "4.608 Euros\n",
    "\n",
    "![Challenge 4 Solved](https://data-challenge.lighthouselabs.ca/img/badges/badge4@72x.png)"
   ]
  }
 ],
 "metadata": {
  "interpreter": {
   "hash": "284f45f08ccb32755c03f9356b1501946f53caee7f8e16ffbb9625966406e9e1"
  },
  "kernelspec": {
   "display_name": "Python 3.9.7 ('base')",
   "language": "python",
   "name": "python3"
  },
  "language_info": {
   "codemirror_mode": {
    "name": "ipython",
    "version": 3
   },
   "file_extension": ".py",
   "mimetype": "text/x-python",
   "name": "python",
   "nbconvert_exporter": "python",
   "pygments_lexer": "ipython3",
   "version": "3.9.7"
  },
  "orig_nbformat": 4
 },
 "nbformat": 4,
 "nbformat_minor": 2
}
