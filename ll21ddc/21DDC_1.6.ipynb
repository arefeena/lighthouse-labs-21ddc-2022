{
 "cells": [
  {
   "cell_type": "markdown",
   "metadata": {},
   "source": [
    "Ref: https://data-challenge.lighthouselabs.ca/challenge/6"
   ]
  },
  {
   "cell_type": "markdown",
   "metadata": {},
   "source": [
    "### **Day 6: *Simple User-Defined Functions in Python***\n",
    "\n",
    "Dot sipped tea in London, checked out several historical and cultural landmarks, and took in the British atmosphere. Then, ready to move on to their next destination, they hurried to the airport to catch their flight. They were running late, and they bit their cheeks nervously as they rushed through security. They had been too distracted, loitering around the old English streets, forgetting that they were on a cross-continental mission! But when they finally got to the gate, they found a large crowd of passengers standing around in a disordered group. The group was grumbling and stamping their feet, wringing their hands, and generally looking unhappy. \n",
    "\n",
    "Dot pushed through the grumpy crowd to the attendant’s desk. “Sorry, our cherished client,” the attendant said with a gloomy face, “but the airport is in chaos. The navigators are taking a break from their stations to do a transcendental meditation session, so there’s no one available to assign empty gates to incoming planes. Your plane and a dozen others are circling overhead, unable to land.” Dot reeled back in shock. Walking over to the window, they saw several empty gates and all the planes anxiously circling overhead. “Worry not, attendant,” Dot exclaimed suddenly. “We don’t need those navigators. I can help you accomplish this process using data programming!” \n",
    "\n",
    "-----"
   ]
  },
  {
   "cell_type": "markdown",
   "metadata": {},
   "source": [
    "### Tutorial \n",
    "\n",
    "In today's challenge you'll use another essential programming concept: **functions**. In the previous challenges and tutorials you've already encountered some functions, like *range()*, *len()*, and *print()*. Those functions are already pre-defined, as in built-in to Python itself. However, pre-defined functions might not always be enough, and sometimes programmers will need to create their own that are designed to suit the task at hand. Today, you'll try creating your own function. Before proceeding, read this  [article](https://realpython.com/defining-your-own-python-function/) on functions.\n",
    "\n",
    "```python\n",
    "\n",
    "def name_of_function(<input parameter>, <input parameter 2>):\n",
    "    '''\n",
    "    code\n",
    "    '''\n",
    "    return output\n",
    "```\n",
    "\n",
    "The keyword return doesn't always have to be at the end of the function. We can use it elsewhere, for example if we want to return the first number from a list that’s divisible by three.\n",
    "\n",
    "```python\n",
    "\n",
    "def return_right_number(input_numbers):\n",
    "    for i in range(len(input_numbers)):\n",
    "        if input_numbers[i] % 3 == 0:\n",
    "            return input_numbers[i]\n",
    "        else :\n",
    "            continue\n",
    "    return \"Number does not exist\"\n",
    "```"
   ]
  },
  {
   "cell_type": "markdown",
   "metadata": {},
   "source": [
    "### Challenge\n",
    "\n",
    "\n",
    "The airport uses sensors to keep track of all its airplane gates, and monitor which ones are available. Every time an airplane needs to park at a gate, the system directs them to an available spot for that particular airplane type, or notifies them that no spots are available.\n",
    "\n",
    "We need to write a function called **find_the_gate()** that returns the coordinates of an available gate, or returns false if there is no available spot. Our function receives a list representing all gates, and a string with the type of airplane that is looking for a gate.\n",
    "\n",
    "There are 2 kinds of possible airplanes: **Narrow-Body (Single aisle)** or **Wide-Body**.\n",
    "\n",
    "- Wide-Body planes can only use gates in **W** spots.\n",
    "- Narrow-Body planes can use gates in either **N** or **W** spots.\n",
    "\n",
    "In the list of gates, gates are written in either lower-case or upper-case. An upper-case letter means that the particular gate is **AVAILABLE**, while a lower-case letter means that the gate is **UNAVAILABLE**.\n",
    "\n",
    "Our function must return a number with the position of the gate where the airplane can park. See the example input and output below for an illustration.\n",
    "\n",
    "**Note:** There may be multiple available spots for a particular airplane. If that happens, our function should return the first possible spot to minimize the airplane taxiing time. If there are no available gates, remember to return boolean value False.\n",
    "\n",
    "#### Input\n",
    "\n",
    "```python\n",
    "def find_the_gate(spots, vehicle):\n",
    "    # Code here!\n",
    "\n",
    "\n",
    "print(find_the_gate(\n",
    "  ['w','n','N'], 'narrow'\n",
    "))\n",
    "\n",
    "print(find_the_gate(\n",
    "  ['w','n','N','W','n','W'],'wide'\n",
    "))\n",
    "\n",
    "print(find_the_gate(\n",
    "  ['w','n','n','w','n','n'], 'narrow'\n",
    "))\n",
    "```\n",
    "\n",
    "#### Expected Output\n",
    "\n",
    "```terminal\n",
    "2\n",
    "3\n",
    "False\n",
    "```\n",
    "\n",
    "**What will be the output of:**\n",
    "\n",
    "```python\n",
    "print(find_the_gate(\n",
    "  ['w','n','n','w','N','n','w','N','N','w','n','n','w','n','n','W','W','W','W','n','n','w','n','n'], 'wide'\n",
    "))\n",
    "```"
   ]
  },
  {
   "cell_type": "code",
   "execution_count": 1,
   "metadata": {},
   "outputs": [
    {
     "name": "stdout",
     "output_type": "stream",
     "text": [
      "15\n"
     ]
    }
   ],
   "source": [
    "def find_the_gate(spots, vehicle):\n",
    "    is_narrow_ok = vehicle == 'narrow'\n",
    "    for index, spot in enumerate(spots):\n",
    "        if spot == 'W' or (spot == 'N' and is_narrow_ok):\n",
    "            return index\n",
    "    return False\n",
    "\n",
    "\n",
    "assert find_the_gate(['w', 'n', 'N'], 'narrow') == 2\n",
    "assert find_the_gate(['w', 'n', 'N', 'W', 'n', 'W'], 'wide') == 3\n",
    "assert find_the_gate(['w', 'n', 'n', 'w', 'n', 'n'], 'narrow') == False\n",
    "\n",
    "print(find_the_gate(\n",
    "  ['w','n','n','w','N','n','w','N','N','w','n','n','w','n','n','W','W','W','W','n','n','w','n','n'], 'wide'\n",
    "))"
   ]
  },
  {
   "cell_type": "markdown",
   "metadata": {},
   "source": [
    "### Answer\n",
    "\n",
    "15\n",
    "\n",
    "![Challenge 6 Solved](https://data-challenge.lighthouselabs.ca/img/badges/badge6@72x.png)"
   ]
  }
 ],
 "metadata": {
  "interpreter": {
   "hash": "284f45f08ccb32755c03f9356b1501946f53caee7f8e16ffbb9625966406e9e1"
  },
  "kernelspec": {
   "display_name": "Python 3.9.7 ('base')",
   "language": "python",
   "name": "python3"
  },
  "language_info": {
   "codemirror_mode": {
    "name": "ipython",
    "version": 3
   },
   "file_extension": ".py",
   "mimetype": "text/x-python",
   "name": "python",
   "nbconvert_exporter": "python",
   "pygments_lexer": "ipython3",
   "version": "3.9.7"
  },
  "orig_nbformat": 4
 },
 "nbformat": 4,
 "nbformat_minor": 2
}
