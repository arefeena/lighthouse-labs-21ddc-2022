{
 "cells": [
  {
   "cell_type": "markdown",
   "metadata": {},
   "source": [
    "### **Day 2: *Strings and the Print Function in Python***\n",
    "\n",
    "After using our data skills to browse through flights to Europe, we figured out it was best for Dot to fly out of Toronto. That’s no problem for them — they snagged a cheap flight to Toronto right away and rushed to pack their suitcase. Clothes, toiletries, a phone charger, and a book went neatly in, then Dot zipped it up and was out the door. On the way out, they put their key in the mailbox for their friend so that Python would get food and fresh water while Dot was away. On the flight over, they could barely contain their excitement. After a few hours, the plane began to descend, and the CN Tower came into view among the cityscape of skyscrapers. The first leg of their journey was already complete, and they were on their way to Europe. \n",
    "\n",
    "After deboarding the plane, Dot stretched their stiff legs and stopped at a cafe counter to grab some hot coffee. They had a long flight ahead of them, but they didn’t mind — they were fulfilling a dream by travelling over to Europe. With joy in their heart, they strode over to the international wing of the airport to board the next plane. Luckily, their flights were timed so well that they didn’t even have much of a layover. Waiting to get on the massive, intercontinental plane, they prepared to show their credentials to the official. Their passport must be in perfect shape before they’re allowed on board — we can use data to help them.\n",
    "\n",
    "--------"
   ]
  },
  {
   "cell_type": "markdown",
   "metadata": {},
   "source": [
    "### Tutorial"
   ]
  },
  {
   "cell_type": "markdown",
   "metadata": {},
   "source": [
    "**Strings in Python**\n",
    "\n",
    "Strings are how text is represented in a computer program, and are considered a unique type of data. You can think of them as a sequence of characters. \n",
    "\n",
    "To learn about strings in Python, read this [article](https://realpython.com/python-strings/) before completing the challenge. \n",
    "\n",
    "**String Formatting**\n",
    "\n",
    "Below is an example of the *f'string* format, which allows us to input certain predefined variables in a string.\n",
    "\n",
    "```python \n",
    "x = 'string'\n",
    "y = 2021\n",
    "\n",
    "string_formatting = f'This is a {x} format and the year is {y}.' \n",
    "print(string_formatting) #prints out 'This is a string format and the year is 2021.\"\n",
    "```\n",
    "To read more on formatting strings in Python read this [article](https://realpython.com/python-f-strings/)."
   ]
  },
  {
   "cell_type": "markdown",
   "metadata": {},
   "source": [
    "### Challenge\n",
    "**Modify the name on Dot’s passport so it can be recognized by passport control. Which combination of string functions will give us the right results?**\n",
    "\n",
    "name: `  Dot  `\n",
    "\n",
    "Required format: `#DOT!`"
   ]
  },
  {
   "cell_type": "code",
   "execution_count": null,
   "metadata": {},
   "outputs": [],
   "source": [
    "name = '  Dot  '"
   ]
  }
 ],
 "metadata": {
  "interpreter": {
   "hash": "284f45f08ccb32755c03f9356b1501946f53caee7f8e16ffbb9625966406e9e1"
  },
  "kernelspec": {
   "display_name": "Python 3.9.7 ('base')",
   "language": "python",
   "name": "python3"
  },
  "language_info": {
   "name": "python",
   "version": "3.9.7"
  },
  "orig_nbformat": 4
 },
 "nbformat": 4,
 "nbformat_minor": 2
}
