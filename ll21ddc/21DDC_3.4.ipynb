{
 "cells": [
  {
   "cell_type": "markdown",
   "metadata": {},
   "source": [
    "Ref: https://data-challenge.lighthouselabs.ca/challenge/18"
   ]
  },
  {
   "cell_type": "markdown",
   "metadata": {},
   "source": [
    "### **Day 18: *Plotting Relationships in Python***\n",
    "\n",
    "After their adventure at Tokyo’s Skytree, Dot continued their globe-spanning journey to their next destination: Bangkok. Dot moved through the city alongside the Chao Phraya River, watching the little boats paddle through the waters towards or away from the Gulf of Thailand. A boatsman gestured to Dot, asking if they would like a ride, but Dot waved him away with a friendly smile. Today wasn’t the day for a boat ride, as they had a destination in mind: the Chatuchak Weekend Market. On the way over to Bangkok, Dot realized the clothes they’d been wearing on the trip were no longer bringing them joy. Dot had been recycling the same few outfits for many days and desperately wanted a change. Plus, they lost a couple of articles of clothing in a hotel room along the way. When Dot arrived in Bangkok, they read something about the Chatuchak market and realized it was the perfect opportunity to snag a fresh new fit. \n",
    "\n",
    "The market stretched on endlessly, the seemingly endless stalls and booths selling all kinds of wares, from clothing to food to books to things Dot couldn’t even name. Standing among the swarming crowds slack-jawed, they didn’t know where to start. Finally, a retailer yelled over at Dot, pulling them out of their consumerist trance. “You there! Do you want to buy this frog?” the salesperson said from behind the counter of their stall. Hypnotized and intrigued, Dot ambled over to him. “What do you mean, a frog?” Dot asked curiously. The salesman opened up his hand, revealing…nothing.\n",
    "Dot raised their eyebrows and scratched their head. “Look closer,” the salesman said patiently. Dot moved closer and looked deeply at the man’s hand. Inside was the tiniest speck of a frog they had ever seen, like a tiny fruit fly letting out faint ribbits. “Well? Do you want to buy it?” the man asked. Dot shook their head and explained that they were simply looking for a fresh new fit. The man clucked his tongue and whisked an outfit out from under the counter. “It’s perfect!” Dot exclaimed. “Wow, this market really does have everything.” Folding the outfit and pushing it into a bag, the salesman explained that the infiniteness of the market was important, as tourism played a big part in strengthening Thailand’s economy. Will you indulge Dot’s curiosity by finding out how tourism impacts the Thai economy? \n"
   ]
  },
  {
   "cell_type": "markdown",
   "metadata": {},
   "source": [
    "### Tutorial\n",
    "\n",
    "In the past challenges, we've looked at various methods of data visualization like bar graphs, histograms, and boxplots. Today we'll be covering another visualization method: **scatterplots**. \n",
    "\n",
    "**What is a scatterplot?**\n",
    "\n",
    "A scatterplot is a type of data visualization that shows the relationship between two numerical variables. One variable is plotted on the *x axis*, and the other is plotted on the *y axis*. Each data point is plotted according to (x,y) coordinates related to the two variables' values.\n",
    "\n",
    "![scatter pot](images/scatter.png)\n",
    "\n",
    "With **scatterplots**, we can visually identify certain patterns or relationships. Typically, we refer to these relationships as correlations. \n",
    "\n",
    "A positive correlation refers to when y variables increase as x variables increase. Below are two examples of a positive correlation, with the first plot showing a strong positive correlation and the second plot showing a weak positive correlation.\n",
    "\n",
    "![positive scatter](images/positive_scatter.png)\n",
    "\n",
    "*Image Taken from [Wikimedia Commons](https://commons.wikimedia.org/wiki/File:Strong--weak--no-correlation.png)*\n",
    "\n",
    "A negative correlation refers to when y variables decrease as x variable increases.\n",
    "\n",
    "A no correlation refers to when there doesn't seem to be a visible relationship. This can be seen in the first image of this tutorial.\n",
    "\n",
    "**Building a scatterplot with Matplotlib**\n",
    "\n",
    "Here is how a scatterplot can be built using Matplotlib:\n",
    "\n",
    "```python\n",
    "plt.figure()\n",
    "plt.scatter(x = df['numerical_data'], y = df['numerical_data_2'])\n",
    "plt.show()\n",
    "```\n",
    "\n",
    "**Determining Correlation in Pandas**\n",
    "\n",
    "In addition to creating a scatter plot to view relationships between two numerical ranges,pandas has a built-in function that outputs the correlation value for us:\n",
    "\n",
    "```python\n",
    "pd.DataFrame.corr()\n",
    "```\n",
    "\n",
    "The **correlation coefficient** is given to us from a range of -1 to 1. Values closer to -1 indicate a negative correlation, whereas values closer to 1 indicate a positive correlation. \n",
    "\n",
    "To learn more abouts correlations with python, read this [article](https://realpython.com/numpy-scipy-pandas-correlation-python/#correlation).\n",
    "\n",
    "For the matplotlib user guide, click [here](https://matplotlib.org/index.html). For the pandas user guide, click [here](https://pandas.pydata.org/pandas-docs/stable/user_guide/index.html).\n",
    "\n",
    "\n",
    "\n",
    "**Note**: When two variables are highly correlated we can use one to predict the value of the other. Python has a specific package [**scikit-learn**](https://scikit-learn.org/stable/) that is used for this purpose. This package contains a ton of different machine learning models and techniques. Even though most of these models are outside of the scope of this challenge, it's good to know about this library because it's arguably the most popular and most often used machine learning library."
   ]
  },
  {
   "cell_type": "markdown",
   "metadata": {},
   "source": [
    "### Challenge\n",
    "\n",
    "Play around with the scatterplot and test out different correlations between the numerical variables in the dataset. Then, help Dot by answering these questions:\n",
    "\n",
    "1. **What kind of correlation is there between `Receipts (bn $)` and `% of GNP`?**\n",
    "\n",
    "2. **What is the correlation coefficient between `Receipts (bn $)` and `% of GNP`?**\n",
    "\n",
    "3. **Which columns have the highest correlation?**\n",
    "\n",
    "Is the correlation visible in a scatterplot as well?"
   ]
  },
  {
   "cell_type": "code",
   "execution_count": 1,
   "metadata": {},
   "outputs": [
    {
     "data": {
      "text/html": [
       "<div>\n",
       "<style scoped>\n",
       "    .dataframe tbody tr th:only-of-type {\n",
       "        vertical-align: middle;\n",
       "    }\n",
       "\n",
       "    .dataframe tbody tr th {\n",
       "        vertical-align: top;\n",
       "    }\n",
       "\n",
       "    .dataframe thead th {\n",
       "        text-align: right;\n",
       "    }\n",
       "</style>\n",
       "<table border=\"1\" class=\"dataframe\">\n",
       "  <thead>\n",
       "    <tr style=\"text-align: right;\">\n",
       "      <th></th>\n",
       "      <th>Year</th>\n",
       "      <th>Number of tourists (m)</th>\n",
       "      <th>Receipts (bn $)</th>\n",
       "      <th>% of GNP</th>\n",
       "      <th>Income per tourist ($)</th>\n",
       "    </tr>\n",
       "  </thead>\n",
       "  <tbody>\n",
       "    <tr>\n",
       "      <th>0</th>\n",
       "      <td>2019</td>\n",
       "      <td>39.92</td>\n",
       "      <td>64.37</td>\n",
       "      <td>11.83</td>\n",
       "      <td>1,613</td>\n",
       "    </tr>\n",
       "    <tr>\n",
       "      <th>1</th>\n",
       "      <td>2018</td>\n",
       "      <td>38.18</td>\n",
       "      <td>61.38</td>\n",
       "      <td>12.12</td>\n",
       "      <td>1,608</td>\n",
       "    </tr>\n",
       "    <tr>\n",
       "      <th>2</th>\n",
       "      <td>2017</td>\n",
       "      <td>35.59</td>\n",
       "      <td>57.06</td>\n",
       "      <td>12.50</td>\n",
       "      <td>1,603</td>\n",
       "    </tr>\n",
       "    <tr>\n",
       "      <th>3</th>\n",
       "      <td>2016</td>\n",
       "      <td>32.53</td>\n",
       "      <td>48.46</td>\n",
       "      <td>11.72</td>\n",
       "      <td>1,490</td>\n",
       "    </tr>\n",
       "    <tr>\n",
       "      <th>4</th>\n",
       "      <td>2015</td>\n",
       "      <td>29.92</td>\n",
       "      <td>44.85</td>\n",
       "      <td>11.18</td>\n",
       "      <td>1,499</td>\n",
       "    </tr>\n",
       "  </tbody>\n",
       "</table>\n",
       "</div>"
      ],
      "text/plain": [
       "   Year  Number of tourists (m)  Receipts (bn $)  % of GNP  \\\n",
       "0  2019                   39.92            64.37     11.83   \n",
       "1  2018                   38.18            61.38     12.12   \n",
       "2  2017                   35.59            57.06     12.50   \n",
       "3  2016                   32.53            48.46     11.72   \n",
       "4  2015                   29.92            44.85     11.18   \n",
       "\n",
       "  Income per tourist ($)  \n",
       "0                  1,613  \n",
       "1                  1,608  \n",
       "2                  1,603  \n",
       "3                  1,490  \n",
       "4                  1,499  "
      ]
     },
     "execution_count": 1,
     "metadata": {},
     "output_type": "execute_result"
    }
   ],
   "source": [
    "import pandas as pd\n",
    "import matplotlib.pyplot as plt\n",
    "\n",
    "df = pd.read_csv('thai_tourism.csv')\n",
    "df.head()"
   ]
  },
  {
   "cell_type": "code",
   "execution_count": 2,
   "metadata": {},
   "outputs": [
    {
     "name": "stdout",
     "output_type": "stream",
     "text": [
      "Questions 1 / 2\n"
     ]
    },
    {
     "data": {
      "text/plain": [
       "0.9324892611735859"
      ]
     },
     "execution_count": 2,
     "metadata": {},
     "output_type": "execute_result"
    }
   ],
   "source": [
    "print(\"Questions 1 / 2\")\n",
    "\n",
    "df.corr()['Receipts (bn $)']['% of GNP']"
   ]
  },
  {
   "cell_type": "code",
   "execution_count": 3,
   "metadata": {},
   "outputs": [
    {
     "name": "stdout",
     "output_type": "stream",
     "text": [
      "Question 3\n"
     ]
    },
    {
     "data": {
      "text/html": [
       "<div>\n",
       "<style scoped>\n",
       "    .dataframe tbody tr th:only-of-type {\n",
       "        vertical-align: middle;\n",
       "    }\n",
       "\n",
       "    .dataframe tbody tr th {\n",
       "        vertical-align: top;\n",
       "    }\n",
       "\n",
       "    .dataframe thead th {\n",
       "        text-align: right;\n",
       "    }\n",
       "</style>\n",
       "<table border=\"1\" class=\"dataframe\">\n",
       "  <thead>\n",
       "    <tr style=\"text-align: right;\">\n",
       "      <th></th>\n",
       "      <th>idxmax</th>\n",
       "      <th>max</th>\n",
       "    </tr>\n",
       "  </thead>\n",
       "  <tbody>\n",
       "    <tr>\n",
       "      <th>Receipts (bn $)</th>\n",
       "      <td>Number of tourists (m)</td>\n",
       "      <td>0.994426</td>\n",
       "    </tr>\n",
       "  </tbody>\n",
       "</table>\n",
       "</div>"
      ],
      "text/plain": [
       "                                 idxmax       max\n",
       "Receipts (bn $)  Number of tourists (m)  0.994426"
      ]
     },
     "execution_count": 3,
     "metadata": {},
     "output_type": "execute_result"
    }
   ],
   "source": [
    "print(\"Question 3\")\n",
    "\n",
    "(df\n",
    "    .corr() # build correlation table\n",
    "    .replace(1, 0) # ignore diagonal\n",
    "    .agg(['idxmax','max']) # find best pairing for each col\n",
    "    .T # treat aggregation results as columns\n",
    "    .sort_values(by='max', key=abs) # find strongest overall correlation, + or -\n",
    "    .tail(1)\n",
    ")"
   ]
  },
  {
   "cell_type": "code",
   "execution_count": 4,
   "metadata": {},
   "outputs": [
    {
     "name": "stdout",
     "output_type": "stream",
     "text": [
      "Bonus\n"
     ]
    },
    {
     "data": {
      "image/png": "[encoded data removed]",
      "text/plain": [
       "<Figure size 432x288 with 1 Axes>"
      ]
     },
     "metadata": {
      "needs_background": "light"
     },
     "output_type": "display_data"
    },
    {
     "data": {
      "image/png": "[encoded data removed]",
      "text/plain": [
       "<Figure size 432x288 with 1 Axes>"
      ]
     },
     "metadata": {
      "needs_background": "light"
     },
     "output_type": "display_data"
    }
   ],
   "source": [
    "print(\"Bonus\")\n",
    "\n",
    "plt.figure()\n",
    "plt.scatter(x = df['Receipts (bn $)'], y = df['% of GNP'])\n",
    "plt.show()\n",
    "\n",
    "plt.figure()\n",
    "plt.scatter(x = df['Receipts (bn $)'], y = df['Number of tourists (m)'])\n",
    "plt.show()"
   ]
  },
  {
   "cell_type": "markdown",
   "metadata": {},
   "source": [
    "### Answer\n",
    "\n",
    "1. Strong positive correlation\n",
    "2. 0.932489\n",
    "3. Number of tourists and Receipts\n",
    "\n",
    "![Challenge 18 Solved](https://data-challenge.lighthouselabs.ca/img/badges/badge18@72x.png)"
   ]
  }
 ],
 "metadata": {
  "interpreter": {
   "hash": "416fa9769a4cd50bb185d13c02663a9481d7a18570b1ee862cc6a27de6992a60"
  },
  "kernelspec": {
   "display_name": "Python 3.10.4 ('ll21ddc')",
   "language": "python",
   "name": "python3"
  },
  "language_info": {
   "codemirror_mode": {
    "name": "ipython",
    "version": 3
   },
   "file_extension": ".py",
   "mimetype": "text/x-python",
   "name": "python",
   "nbconvert_exporter": "python",
   "pygments_lexer": "ipython3",
   "version": "3.10.4"
  },
  "orig_nbformat": 4
 },
 "nbformat": 4,
 "nbformat_minor": 2
}
