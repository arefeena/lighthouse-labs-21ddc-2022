{
 "cells": [
  {
   "cell_type": "markdown",
   "metadata": {},
   "source": [
    "Ref: https://data-challenge.lighthouselabs.ca/challenge/17"
   ]
  },
  {
   "cell_type": "markdown",
   "metadata": {},
   "source": [
    "### **Day 17: *Data Visualization in Python***\n",
    "\n",
    "When Dot arrived in Tokyo, they breathed a sigh of relief. A hypermodern city, far from the frightening and stark nature of the mountain terrain. The ground was flat, and if they needed to get higher, they could take an escalator or elevator — no need to hike up and risk slipping to their death. Still, Dot worried about the odd woman on her own in an unforgiving, rocky landscape. From the Tokyo airport, they made their way into Shibuya square so they could people-watch and take in the city's bright lights. A giant TV screen against one of the skyscrapers caught their eye — there, looming over the milling crowds of the square, was an image of the woman! She was standing bundled in her snow gear, arms held up to the sky victoriously. Underneath was some text written in Japanese characters. Dot turned to the people next to them, speaking in English. “Excuse me,” they said cordially, “do you know what it says on the TV?” The group turned to the screen and then back to Dot. “It says this woman just set a record by climbing Mount Everest in less than a day,” the stranger said incredulously.  \n",
    "\n",
    "Dot felt regret at not tagging along with the woman — they, too, could have been a record-setter! But in Tokyo, they could reach great heights without expending so much energy or risking mortal injury. Dot made their way over to the Tokyo Skytree, one of the tallest buildings in the world. The elevator to the top seemed to take forever, and Dot’s stomach dropped as they got higher and higher and higher still. At the top, Dot stared out over Tokyo and took in the astonishing view. They wanted to meditate wistfully on existential questions about human life and the purpose of being, but they were distracted. Part of the problem was the crying child next to them, who wouldn’t be consoled by his father. “C’mon, Jimmy, cheer up,” the father said mournfully. He looked over at Dot apologetically. “I just can’t seem to get him to stop crying! He usually cheers up when I tell him all the facts I know about Toyota cars, but it’s not enough for him today. You don’t happen to know much about Toyota cars, do ya, stranger?” Dot thought for a moment. Can you help them quiet the child with some facts about Toyota vehicles?\n"
   ]
  },
  {
   "cell_type": "markdown",
   "metadata": {},
   "source": [
    "### Tutorial\n",
    "\n",
    "**Data visualization** refers to the graphical representation of information and data. By using visual elements such as charts and graphs, data visualization tools provide us with an accessible way to understand trends, outliers, and relationships in our data. It enables us to communicate data insights to others and understand the data better ourselves.  Understanding how to use a data visualization tool is essential for anyone who uses data in their work.\n",
    "\n",
    "One of the most popular visualization packages for Python is **Matplotlib**, a plotting library. Matplotlib is popular for how easy it makes building statistical plots, as well as for the excellent community support and the wide availability of tutorials online.\n",
    "\n",
    "Read this [article](https://www.gooddata.com/blog/5-data-visualization-best-practices-0) to increase your understanding of best practices in data visualization.\n",
    "\n",
    "**Importing Matplotlib**\n",
    "\n",
    "Just like with pandas and other tools we have worked with so far, before we can use Matplotlib we have to import it. It's typical within data science to give Matplotlib the alias *plt* when importing it.\n",
    "\n",
    "As a reminder, the code would look like this:\n",
    "\n",
    "```python\n",
    "import matplotlib.pyplot as plt\n",
    "```\n",
    "\n",
    "**Basic Plot-Building in Matplotlibs**\n",
    "\n",
    "The process for building a plot in Matplotlib can be divided into three parts: the frame, the plot, and the stylistic features.\n",
    "\n",
    "```python\n",
    "plt.figure() #The Frame: We start our plot with a figure\n",
    "plt.bar(x = data, height = data) #The Body: Declaring the specific bar plot\n",
    "plt.title(\"Example Bar Plot\") #Stylistic Features: Adding the title\n",
    "plt.show() #To show our plot, we need to end our plot with a plt.show()\n",
    "```\n",
    "\n",
    "**Example**\n",
    "\n",
    "Below is example code that produces a simple bar chart. Try it out yourself!\n",
    "\n",
    "```python\n",
    "data = {'item_1':40, 'item_2':50, 'item_3':25} \n",
    "items = list(data.keys())\n",
    "quantity = list(data.values())\n",
    "\n",
    "\n",
    "plt.figure()\n",
    "plt.bar(x = items, height = quantity)\n",
    "plt.show()\n",
    "```\n",
    "\n",
    "*output*\n",
    "\n",
    "![bar](images/bar.png)\n",
    "\n",
    "**Pandas and Matplotlib**\n",
    "\n",
    "Pandas and Matplotlib can be integrated very easily. For example, we can feed specific pandas columns to Matplotlib as our data input.\n",
    "\n",
    "To read more on the documentation for the bar chart in Matplotlib, click [here](https://matplotlib.org/api/_as_gen/matplotlib.pyplot.bar.html). For the matplotlib user guide, click [here](https://matplotlib.org/index.html)."
   ]
  },
  {
   "cell_type": "markdown",
   "metadata": {},
   "source": [
    "### Challenge\n",
    "\n",
    "Use the bar chart from matplotlib to answer the following question: \n",
    "\n",
    "**What were the two most popular Toyota vehicle categories in 2020?**"
   ]
  },
  {
   "cell_type": "code",
   "execution_count": 1,
   "metadata": {},
   "outputs": [],
   "source": [
    "import pandas as pd\n",
    "import matplotlib.pyplot as plt"
   ]
  },
  {
   "cell_type": "code",
   "execution_count": 2,
   "metadata": {},
   "outputs": [],
   "source": [
    "df = pd.read_csv('toyota_cars.csv')"
   ]
  },
  {
   "cell_type": "code",
   "execution_count": 3,
   "metadata": {},
   "outputs": [
    {
     "data": {
      "image/png": "[encoded data removed]",
      "text/plain": [
       "<Figure size 432x288 with 1 Axes>"
      ]
     },
     "metadata": {
      "needs_background": "light"
     },
     "output_type": "display_data"
    }
   ],
   "source": [
    "df_2020 = df[df.Year == 2020]\n",
    "df_2020_cat_counts = df_2020.Category.value_counts()\n",
    "\n",
    "plt.figure()\n",
    "plt.bar(x=df_2020_cat_counts.keys(), height=df_2020_cat_counts.values)\n",
    "plt.show()"
   ]
  },
  {
   "cell_type": "markdown",
   "metadata": {},
   "source": [
    "### Answer\n",
    "\n",
    "SUV, Sedan\n",
    "\n",
    "![Challenge 17 Solved](https://data-challenge.lighthouselabs.ca/img/badges/badge17@72x.png)"
   ]
  }
 ],
 "metadata": {
  "interpreter": {
   "hash": "416fa9769a4cd50bb185d13c02663a9481d7a18570b1ee862cc6a27de6992a60"
  },
  "kernelspec": {
   "display_name": "Python 3.10.4 ('ll21ddc')",
   "language": "python",
   "name": "python3"
  },
  "language_info": {
   "codemirror_mode": {
    "name": "ipython",
    "version": 3
   },
   "file_extension": ".py",
   "mimetype": "text/x-python",
   "name": "python",
   "nbconvert_exporter": "python",
   "pygments_lexer": "ipython3",
   "version": "3.10.4"
  },
  "orig_nbformat": 4
 },
 "nbformat": 4,
 "nbformat_minor": 2
}
