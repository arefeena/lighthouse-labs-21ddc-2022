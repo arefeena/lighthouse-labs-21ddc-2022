{
 "cells": [
  {
   "cell_type": "markdown",
   "metadata": {},
   "source": [
    "Ref: https://data-challenge.lighthouselabs.ca/challenge/16"
   ]
  },
  {
   "cell_type": "markdown",
   "metadata": {},
   "source": [
    "### **Day 16: *SQL II: Join and Group by***\n",
    "\n",
    "The rest of the trip was a blur. Dot allowed themselves to be dragged along by the whirlwind of a woman. When they arrived at the airport in Nepal, a man in a new black suit and dark sunglasses met them, nodding at the woman before leading the two of them to a shiny stretch limo. Seated in the plush of the vehicle’s interior, the woman conjured a bottle of champagne from a mini-fridge and popped it open. “To adventure!” she laughed, pouring Dot a foaming glass and clinking it with her own. The car stopped after a long drive, during which the woman speed-crocheted an entire lime-green bodysuit for Dot. They got out and switched to a decidedly less swanky all-terrain vehicle. Dot found a parka, snow pants, a balaclava, and climbing gear underneath their seat. After a while, the car skid to a stop. Dot opened the door to find that they were at the foot of a massive mountain. All around them were mountains and valleys as far as the eye could see. \n",
    "\n",
    "“Come on, sidekick, let’s go!” the woman yelled, bounding out of the vehicle and running up the mountain at full speed. Dot cautiously began to walk after her. Inside them was a strange mix of fear and exhilaration — they were scared that they wouldn’t be able to climb the mountain, but they wanted to try. They slowly began the ascent, with the energetic woman rapidly climbing high above them. When Dot looked up, the mountain stretched to the heavens, impossibly tall. “How long will it take to climb this mountain, anyway?” Dot yelled up at the woman. “About two months!” she yelled back down. Dot stopped in their tracks. “What?! How will we eat?” The woman's laughter came from high above them, “we’ll hunt animals, of course!” Wordlessly, Dot stepped back down the mountain and walked back to the car. The driver nodded at Dot and asked where to take them. “Back to the airport, please,” Dot said. “I’m going to Japan. No more mountains!” Dot thought about the woman climbing up the mountain on the drive back. Was it even possible for her to reach the peak? Let’s examine the data to see whether past expeditions in the Himalayas have been successful.\n"
   ]
  },
  {
   "cell_type": "markdown",
   "metadata": {},
   "source": [
    "### Tutorial\n",
    "\n",
    "We will continue with more complex SQL queries in this challenge. We will learn how to join data from tables, and how to aggregate data.\n",
    "\n",
    "\n",
    "**Relations between the tables**\n",
    "\n",
    "\n",
    "We call the database relational when there are relations between tables. See the diagram that displays simple database relations below:\n",
    "\n",
    "![](images/diagram_1.png)\n",
    "\n",
    "*Image Taken from [here](https://cdn.tutsplus.com/net/authors/lalith-polepeddi/relational-databases-for-dummies-fig4.png)*\n",
    "\n",
    "We can see that the table **users** is related to both **tweets** and **following** by using its key **username**.\n",
    "\n",
    "We can display the same kind of diagram for our database **himalayas.db**.\n",
    "\n",
    "```python\n",
    "import sqlite3\n",
    "import pandas as pd\n",
    "conn = sqlite3.connect(\"himalayas.db\")\n",
    "```\n",
    "\n",
    "The tables are connected with primary (PK) and foreign (FK) keys, and there can be more than one type of relationship between them:\n",
    "\n",
    "- **1 to 1** - when one line from table A is connected to one line in table B\n",
    "- **1 to many** - when one line from table A is connected to more lines in table B\n",
    "- **many to many** - when more lines from table A are connected to more lines in table B\n",
    "\n",
    "![](images/diagram_2.png)\n",
    "\n",
    "In our database we deal with **1 to many** relationships because we can have:\n",
    "\n",
    "- more expeditions that went to a specific peak\n",
    "- more expedition members who went to a specific peak\n",
    "\n",
    "When the tables are connected through primary and foreign keys, we can use SQL JOIN to query the data from both tables. There are more types of JOIN which are shown below:\n",
    "\n",
    "![](images/sql_joins.jpeg)\n",
    "\n",
    "\n",
    "*Image Taken from [here](https://www.codeproject.com/Articles/33052/Visual-Representation-of-SQL-Joins)*\n",
    "\n",
    "```python\n",
    "exped = pd.read_sql('select * from exped',conn)\n",
    "members = pd.read_sql('select * from members',conn)\n",
    "```\n",
    "\n",
    "\n",
    "We use table alias `from exped as E` to identify which columns come from which tables:\n",
    "\n",
    "```python\n",
    "pd.read_sql(\"\"\"\n",
    "    select E.expid, --this is from the table E -> exped\n",
    "        M.fname, --this is from the table M -> members\n",
    "        M.calcage as age\n",
    "    from exped as E\n",
    "    inner join members as M\n",
    "        on E.expid = M.expid\n",
    "\"\"\",conn)\n",
    "```\n",
    "\n",
    "We can also select all columns from one table:\n",
    "\n",
    "```python\n",
    "pd.read_sql(\"\"\"\n",
    "    select E.*, --all columns from the table E -> exped\n",
    "        M.fname, --this is from the table M -> members\n",
    "        M.calcage as age\n",
    "    from exped as E\n",
    "    inner join members as M\n",
    "        on E.expid = M.expid\n",
    "\"\"\",conn)\n",
    "```\n",
    "\n",
    "\n",
    "\n",
    "\n",
    "To further play around with simple SQL JOIN queries, you can watch this [interactive video](https://www.khanacademy.org/computing/computer-programming/sql/relational-queries-in-sql/pt/joining-related-tables).\n",
    "\n"
   ]
  },
  {
   "cell_type": "markdown",
   "metadata": {},
   "source": [
    "### Challenge\n",
    "\n",
    "Answer following questions using our database:\n",
    "\n",
    "1. **How many expeditions went to the peak of Everest?**\n",
    "2. **How many people went to the peak of Everest? (One person could have gone more than once)**"
   ]
  },
  {
   "cell_type": "code",
   "execution_count": 1,
   "metadata": {},
   "outputs": [],
   "source": [
    "import sqlite3\n",
    "import pandas as pd\n",
    "conn = sqlite3.connect(\"himalayas.db\")"
   ]
  }
 ],
 "metadata": {
  "interpreter": {
   "hash": "416fa9769a4cd50bb185d13c02663a9481d7a18570b1ee862cc6a27de6992a60"
  },
  "kernelspec": {
   "display_name": "Python 3.10.4 ('ll21ddc')",
   "language": "python",
   "name": "python3"
  },
  "language_info": {
   "codemirror_mode": {
    "name": "ipython",
    "version": 3
   },
   "file_extension": ".py",
   "mimetype": "text/x-python",
   "name": "python",
   "nbconvert_exporter": "python",
   "pygments_lexer": "ipython3",
   "version": "3.10.4"
  },
  "orig_nbformat": 4
 },
 "nbformat": 4,
 "nbformat_minor": 2
}
