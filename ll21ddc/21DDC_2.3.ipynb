{
 "cells": [
  {
   "cell_type": "markdown",
   "metadata": {},
   "source": [
    "Ref: https://data-challenge.lighthouselabs.ca/challenge/10"
   ]
  },
  {
   "cell_type": "markdown",
   "metadata": {},
   "source": [
    "### **Day 10: *Group By in Pandas***\n",
    "\n",
    "After spending time tasting wine and viewing Renaissance art in Italy, Dot’s journey in Europe came to a close. They weren’t heading back home just yet, though – there was so much more of the world they wanted to explore! Dot hopped on a plane from Florence to voyage over to a luxurious, warm city sitting against the Persian Gulf: Dubai. They had organized the trip to arrive in the emirate just as night fell. They had some time to grab a falafel sandwich from a streetside food cart before making their way to a nightclub. Lining up before the entrance, Dot saw a diverse crowd of people from different cultures and countries, speaking to each other in various languages. The bouncer smiled at Dot and ushered them inside. Dot was momentarily struck frozen by the interior: a giant space with multiple levels, lit by flashing, differently coloured lights, filled with people dancing happily to the pounding music. \n",
    "\n",
    "When Dot woke up the following day, they gazed out their hotel window at the hyper-modern cityscape. The Burj Khalifa, the world’s tallest building, stood grandly among a crowd of different skyscrapers. Dot smiled to themselves and thought about how incredible Dubai was: the nightlife, the food, the luxury and cutting-edge architecture. “How I would love to live in this place!” they said aloud. They knew, though, that living in Dubai would be expensive. Just how much would it be to purchase property in the city, and what neighbourhoods would be too expensive for Dot to afford? Can you help Dot work through a dataset that lists property prices in Dubai?\n"
   ]
  },
  {
   "cell_type": "markdown",
   "metadata": {},
   "source": [
    "### Tutorial\n",
    "Within Pandas, one of the most essential and useful functions for data analysis is the *group by* function.\n",
    "\n",
    "*Group by* does one thing: it groups the dataset according to a categorical column or columns. However, the grouping function can't stand on its own. The user needs to apply a specific aggregate function to the dataset after using *group by*. Check the example below.\n",
    "\n",
    "```python\n",
    "import pandas as pd\n",
    "\n",
    "df = pd.read_csv('dubai_properties_data.csv', index_col = 0)\n",
    "\n",
    "df.groupby(['quality']).mean()\n",
    "```\n",
    "\n",
    "In the above code, we grouped the dataset by the **quality** column, then used the ***mean()*** aggregate function to see the average of **ALL** numerical columns for each year. However, we don’t have to use the **sum()** function with group by. We can easily use other aggregate functions, such as ***sum(), min(), max()...***.\n",
    "\n",
    "Below is a list of aggregate functions we can use on our group bys.\n",
    "\n",
    "- count() – Number of non-null observations\n",
    "- sum() – Sum of values\n",
    "- mean() – Mean of values\n",
    "- median() – Arithmetic median of values\n",
    "- min() – Minimum\n",
    "- max() – Maximum\n",
    "- mode() – Mode\n",
    "- std() – Standard deviation\n",
    "- var() – Variance\n",
    "- size() - Number of rows\n",
    "\n",
    "We can specify the columns we want to group by:\n",
    "\n",
    "```python\n",
    "df.groupby(['quality'])[['price','size_in_sqft','no_of_bedrooms']].mean()\n",
    "```\n",
    "\n",
    "\n",
    "Try this line of code below and see what it does:\n",
    "```python\n",
    "df.groupby(['view_of_landmark','view_of_water'])[['price','no_of_bedrooms']].mean()\n",
    "\n",
    "```\n",
    "\n",
    "Before you continue to the challenge, play around with the *group by* function a bit. You can read more on the function in this [article](https://realpython.com/pandas-groupby/). \n",
    "\n",
    "\n",
    "\n",
    "To learn more about the various pandas functions, check out the user guide in the [pandas documentation](https://pandas.pydata.org/docs/user_guide/index.html#user-guide)."
   ]
  },
  {
   "cell_type": "code",
   "execution_count": 1,
   "metadata": {},
   "outputs": [],
   "source": [
    "import pandas as pd\n",
    "df = pd.read_csv('dubai_properties_data.csv')"
   ]
  },
  {
   "cell_type": "markdown",
   "metadata": {},
   "source": [
    "### Challenge\n",
    "\n",
    "**Which neighborhood has the highest average property price and the highest size_in_sqft?**"
   ]
  },
  {
   "cell_type": "code",
   "execution_count": 2,
   "metadata": {},
   "outputs": [
    {
     "name": "stdout",
     "output_type": "stream",
     "text": [
      "Palm Jumeirah\n",
      "Dubai Festival City\n"
     ]
    }
   ],
   "source": [
    "avg_property_price_df = df.groupby('neighborhood')['price'].mean()\n",
    "print(avg_property_price_df.idxmax())\n",
    "\n",
    "avg_size_sqft_df = df.groupby('neighborhood')['size_in_sqft'].mean()\n",
    "print(avg_size_sqft_df.idxmax())"
   ]
  },
  {
   "cell_type": "markdown",
   "metadata": {},
   "source": [
    "### Answer\n",
    "\n",
    "Palm Jumeirah, Dubai Festival City\n",
    "\n",
    "![Challenge 10 Solved](https://data-challenge.lighthouselabs.ca/img/badges/badge10@72x.png)"
   ]
  }
 ],
 "metadata": {
  "interpreter": {
   "hash": "416fa9769a4cd50bb185d13c02663a9481d7a18570b1ee862cc6a27de6992a60"
  },
  "kernelspec": {
   "display_name": "Python 3.10.4 ('ll21ddc')",
   "language": "python",
   "name": "python3"
  },
  "language_info": {
   "codemirror_mode": {
    "name": "ipython",
    "version": 3
   },
   "file_extension": ".py",
   "mimetype": "text/x-python",
   "name": "python",
   "nbconvert_exporter": "python",
   "pygments_lexer": "ipython3",
   "version": "3.10.4"
  },
  "orig_nbformat": 4
 },
 "nbformat": 4,
 "nbformat_minor": 2
}
